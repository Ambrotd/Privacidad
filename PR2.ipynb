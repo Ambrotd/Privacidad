{
 "cells": [
  {
   "cell_type": "markdown",
   "metadata": {},
   "source": [
    "<div style=\"width: 100%; clear: both;\">\n",
    "    <div style=\"float: left; width: 50%;\">\n",
    "       <img src=\"http://www.uoc.edu/portal/_resources/common/imatges/marca_UOC/UOC_Masterbrand.jpg\", align=\"left\">\n",
    "    </div>\n",
    "</div>\n",
    "\n",
    "<div style=\"float: right; width: 50%;\">\n",
    "    <p style=\"margin: 0; padding-top: 22px; text-align:right;\">M1.871 · Privacidad</p>\n",
    "    <p style=\"margin: 0; text-align:right;\">Máster Universitario en Ciberseguridad y Privacidad</p>\n",
    "    <p style=\"margin: 0; text-align:right; padding-button: 100px;\">Estudios de Informática, Multimedia y Telecomunicación</p>\n",
    "</div>\n",
    "\n",
    "</div>\n",
    "<div style=\"width: 100%; clear: both;\">\n",
    "<div style=\"width:100%;\">&nbsp;</div>"
   ]
  },
  {
   "cell_type": "markdown",
   "metadata": {},
   "source": [
    "# Práctica 2\n",
    "\n",
    "\n",
    "---\n",
    "\n",
    "Introducción\n",
    "-----------------------------------------------------\n",
    "\n",
    "---"
   ]
  },
  {
   "cell_type": "markdown",
   "metadata": {},
   "source": [
    "En esta práctica, el alumno implementará una red DC (*Dining Cryptographers*) desde cero. Además, el alumno deberá evaluar las propiedades de privacidad y de resistencia al análisis del tráfico de esta red.\n",
    "\n",
    "La práctica se divide en dos partes con dos ejercicios cada una. En los ejercicios de la primera parte se implementará el protocolo de la *cena de los criptógrafos* sin tener acceso a la red. En la segunda parte, se utilizará el protocolo implementado en la primera parte como primitiva para construir una red de comunicaciones anónimas DC, la cual utilizará una red simulada.\n",
    "\n",
    "Cada parte consta de unos preliminares, donde explicamos conceptos de programación que serán útiles para la parte de programación de los ejercicios. En los preliminares de la Parte 1, explicamos los conceptos básicos de programación orientada a objetos que serán útiles para implementar el protocolo de la cena de los criptógrafos básico. En los preliminares de la Parte 2, explicamos como utilizar la librería SimPy para hacer una simulación en red como la que usaremos para simular la red de comunicaciones anónimas DC.\n",
    "\n",
    "Los ejercicios tienen una parte de programación, donde el alumno tendrá que implementar alguno de los componentes de la red DC, y una parte de preguntas teóricas y de reflexión. La mayoría de las preguntas no dependen de la parte de programación y se pueden responder basándose en los materiales de la asignatura. Recomendamos que si alguien tiene problemas con la implementación, que se centre en responder estas preguntas.\n",
    "\n",
    "La práctica se puntúa sobre 10 puntos:\n",
    "\n",
    "* [Preliminares I: programación orientada a objetos](#Preliminares-I:-programación-orientada-a-objetos)\n",
    "\n",
    "\n",
    "* [Parte 1](#Parte-1)\n",
    "  - [Ejercicio 1 (1.5 puntos)](#Ejercicio-1-(1.5-puntos)): implementar y testear la clase básica de la cena de los criptógrafos.\n",
    "  - [Ejercicio 2 (1.5 puntos)](#Ejercicio-2-(1.5-puntos)): extender la clase anterior para que los criptógrafos puedan enviar mensajes de más de un bit.\n",
    "  - [Preguntas (2.5 puntos)](#Parte-1:-Preguntas-(2.5-puntos))\n",
    "\n",
    "\n",
    "* [Preliminares II: simulaciones de eventos discretos](#Preliminares-II:-simulaciones-de-eventos-discretos)\n",
    "\n",
    "\n",
    "\n",
    "* [Parte 2](#Parte-2)\n",
    "  - [Ejercicio 3 (1 punto)](#Ejercicio-3-(1-punto)): simular una red DC sin sincronización utilizando la clase del ejercicio 2.\n",
    "  - [Ejercicio 4 (1 punto)](#Ejercicio-4-(1-punto)): sincronizar los nodos de la red DC para que implementen un protocolo de tráfico dummy constante.\n",
    "  - [Preguntas (2.5 puntos)](#Parte-2:-Preguntas-(2.5-puntos))\n",
    "  \n",
    "### Escenario\n",
    "\n",
    "Durante la práctica consideraremos el siguiente escenario. La red DC se quiere utilizar como un sistema para informantes y disidentes que quieren publicar documentos filtrados de interés público (como WikiLeaks).\n",
    "\n",
    "La arquitectura de la red DC consiste en un servidor central que recibe los mensajes de los nodos DC, realiza las operaciones XOR sobre los mensajes que recibe y publica el resultado (documentos filtrados). Un cliente de la red tiene que utilizar uno de los nodos DC para enviar documentos. El servidor puede que no forme parte de la red y puede estar interesado en descubrir quien envía el documento, pero aplica las operaciones XOR correctamente.\n",
    "\n",
    "En la primera parte de la práctica, nos limitaremos a construir las primitivas de la red (los nodos que implementan el protocolo de la cena de los criptógrafos). En la segunda parte, simularemos una red DC de tres nodos con y sin sincronización. Los detalles de la red con y sin sincronización se explican en los enunciados de los ejercicios 3 i 4."
   ]
  },
  {
   "cell_type": "markdown",
   "metadata": {},
   "source": [
    "<img src=\"data:image/png;base64,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\" alt=\"\" />"
   ]
  },
  {
   "cell_type": "markdown",
   "metadata": {},
   "source": [
    "## Preliminares I: programación orientada a objetos\n",
    "\n",
    "---"
   ]
  },
  {
   "cell_type": "markdown",
   "metadata": {},
   "source": [
    "Python nos permite crear clases, de forma que podemos aprovechar todas las ventajas de la programación orientada a objetos también en este lenguaje. En esta sección, presentaremos las funcionalidades más esenciales de las clases de Python y aprovecharemos para repasar los conceptos básicos de programación orientada a objetos.\n",
    "\n",
    "Para **definir** una clase en Python usamos la palabra clave `class`. Dentro de una clase podremos definir un conjunto de **métodos**, que no son más que funciones que sirven de interfaz de la clase con lo que hay fuera de esta. "
   ]
  },
  {
   "cell_type": "code",
   "execution_count": 82,
   "metadata": {},
   "outputs": [],
   "source": [
    "class Client:\n",
    "\n",
    "    def public_value(self):\n",
    "        self.k_pub = pow(self.alpha, self.a, self.p)\n",
    "        return self.k_pub\n",
    "\n",
    "    def shared_key(self, k_pub_counter_part):\n",
    "        self.shared_key = pow(k_pub_counter_part, self.a, self.p)\n",
    "        return self.shared_key"
   ]
  },
  {
   "cell_type": "markdown",
   "metadata": {},
   "source": [
    "Del mismo modo que con la definición de funciones, la definición de una clase es solo una descripción de esta. Por lo tanto, al describir una clase no estamos ejecutando nada. Para crear un objeto de una clase, necesitaremos ***instanciar*** esta clase. La notación que se usa en Python para crear una instancia de una clase consiste en usar el nombre de la clase seguido de dos paréntesis, como si fuera una llamada a una función:"
   ]
  },
  {
   "cell_type": "code",
   "execution_count": 83,
   "metadata": {},
   "outputs": [],
   "source": [
    "un_client = Client()"
   ]
  },
  {
   "cell_type": "markdown",
   "metadata": {},
   "source": [
    "De este modo, la variable `un_cliente` contiene una instancia de la clase `Client`. Esto nos crearía un cliente sin datos. A veces, sin embargo, nos puede interesar personalizar esta inicialización. Las clases tienen un método especial que se denomina **constructor** (`__init__`) y que se llama cuando se tiene que instanciar una clase. Así pues, si incluimos este método especial en nuestra clase, el método se invocará cuando se instancie un nuevo objeto. "
   ]
  },
  {
   "cell_type": "code",
   "execution_count": 84,
   "metadata": {},
   "outputs": [],
   "source": [
    "class Client:\n",
    "\n",
    "    def __init__(self):\n",
    "        self.alpha = 3\n",
    "        self.a = 221\n",
    "        self.p = 1087\n",
    "\n",
    "    def public_value(self):\n",
    "        self.k_pub = pow(self.alpha, self.a, self.p)\n",
    "        return self.k_pub\n",
    "\n",
    "    def shared_key(self, k_pub_counter_part):\n",
    "        self.shared_key = pow(k_pub_counter_part, self.a, self.p)\n",
    "        return self.shared_key\n",
    "\n",
    "\n",
    "un_client = Client()"
   ]
  },
  {
   "cell_type": "markdown",
   "metadata": {},
   "source": [
    "Ahora, al crear un objeto de la clase `Client`, el objeto contendría una variable con los tres valores especificados. Adicionalmente, el método `__init__` acepta parámetros, lo que nos permite personalizar todavía más la inicialización de los objetos de nuestra clase."
   ]
  },
  {
   "cell_type": "code",
   "execution_count": 85,
   "metadata": {},
   "outputs": [],
   "source": [
    "class Client:\n",
    "\n",
    "    def __init__(self, alpha, a, p):\n",
    "        self.alpha = alpha\n",
    "        self.a = a\n",
    "        self.p = p\n",
    "\n",
    "    def public_value(self):\n",
    "        self.k_pub = pow(self.alpha, self.a, self.p)\n",
    "        return self.k_pub\n",
    "\n",
    "    def shared_key(self, k_pub_counter_part):\n",
    "        self.shared_key = pow(k_pub_counter_part, self.a, self.p)\n",
    "        return self.shared_key\n",
    "\n",
    "\n",
    "un_client = Client(3, 221, 1087)\n",
    "un_a_client = Client(3, 254, 1087)"
   ]
  },
  {
   "cell_type": "markdown",
   "metadata": {},
   "source": [
    "Con este código, especificaremos los tres parámetros que queremos que almacene cada cliente en el momento de instanciar la clase. De este modo, podemos crear dos objetos de la clase cliente, cada uno de los cuales tiene unos parámetros diferentes almacenados.\n",
    "\n",
    "Una vez tenemos una instancia de una clase, podemos invocar los métodos. Para hacerlo, usaremos el nombre del objeto seguido de un punto, el nombre del método y unos paréntesis entre los que incluiremos los argumentos:"
   ]
  },
  {
   "cell_type": "code",
   "execution_count": 86,
   "metadata": {},
   "outputs": [
    {
     "data": {
      "text/plain": [
       "731"
      ]
     },
     "execution_count": 86,
     "metadata": {},
     "output_type": "execute_result"
    }
   ],
   "source": [
    "un_client.shared_key(679)"
   ]
  },
  {
   "cell_type": "markdown",
   "metadata": {},
   "source": [
    "En los ejemplos de código que hemos visto hasta ahora puede parecer que hay un error: el número de argumentos que usamos al instanciar el objeto o llamar a los métodos es diferente del número de argumentos que hay en la definición de los respectivos métodos. Precisamente, lo que distingue los métodos de una clase de las funciones es que el primer argumento que reciben como parámetro es un objeto de la misma clase. Por convención, denominamos este primer argumento **`self`**. Así pues, la llamada a `blind_message` anterior es equivalente a:"
   ]
  },
  {
   "cell_type": "code",
   "execution_count": 87,
   "metadata": {},
   "outputs": [
    {
     "data": {
      "text/plain": [
       "731"
      ]
     },
     "execution_count": 87,
     "metadata": {},
     "output_type": "execute_result"
    }
   ],
   "source": [
    "Client.shared_key(un_client, 679)"
   ]
  },
  {
   "cell_type": "markdown",
   "metadata": {},
   "source": [
    "Este primer argumento nos permite llamar métodos de la clase desde la misma clase:"
   ]
  },
  {
   "cell_type": "code",
   "execution_count": 88,
   "metadata": {},
   "outputs": [],
   "source": [
    "class Client:\n",
    "\n",
    "    def shared_key(self, k_pub_counter_part):\n",
    "        self.shared_key = pow(k_pub_counter_part, self.a, self.p)\n",
    "        return self.shared_key\n",
    "\n",
    "    def call_shared_key(self, k_pub_counter_part):\n",
    "        self.shared_key()"
   ]
  },
  {
   "cell_type": "markdown",
   "metadata": {},
   "source": [
    "Otro detalle que podemos apreciar de los ejemplos son las asignaciones que se hacen a `self.alpha`, `self.a` y `self.p`, entre otros. Estas variables son **variables de instancia**, de forma que cada instancia de la clase `Client` tendrá su copia de estas variables. En Python también podemos definir **variables de clase**, que son variables que comparten todas las instancias de una misma clase. En el siguiente ejemplo, podemos ver la diferencia entre los dos tipos de variables:"
   ]
  },
  {
   "cell_type": "code",
   "execution_count": 89,
   "metadata": {},
   "outputs": [],
   "source": [
    "class Client:\n",
    "\n",
    "    shared_type = \"DH\"\n",
    "\n",
    "    def __init__(self, alpha, a, p):\n",
    "        self.alpha = alpha\n",
    "        self.a = a\n",
    "        self.p = p"
   ]
  },
  {
   "cell_type": "code",
   "execution_count": 90,
   "metadata": {},
   "outputs": [
    {
     "name": "stdout",
     "output_type": "stream",
     "text": [
      "3 221 1087\n",
      "3 254 1087\n"
     ]
    }
   ],
   "source": [
    "client_1 = Client(3, 221, 1087)\n",
    "client_2 = Client(3, 254, 1087)\n",
    "\n",
    "print(client_1.alpha, client_1.a, client_1.p)\n",
    "print(client_2.alpha, client_2.a, client_2.p)"
   ]
  },
  {
   "cell_type": "code",
   "execution_count": 91,
   "metadata": {},
   "outputs": [
    {
     "name": "stdout",
     "output_type": "stream",
     "text": [
      "DH DH DH\n",
      "ECDH ECDH ECDH\n"
     ]
    }
   ],
   "source": [
    "print(Client.shared_type, client_1.shared_type, client_2.shared_type)\n",
    "Client.shared_type = \"ECDH\"\n",
    "print(Client.shared_type, client_1.shared_type, client_2.shared_type)"
   ]
  },
  {
   "cell_type": "markdown",
   "metadata": {},
   "source": [
    "Hay que tener cuidado a la hora de modificar los valores de las variables de clase, puesto que hacerlo a través de los objetos puede tener resultados diferentes de los que esperaría el programador. El lector interesado puede consultar la extensa documentación en línea ([1](http://stackoverflow.com/questions/68645/static-class-variables-in-python), [2](http://anandology.com/python-practice-book/object_oriented_programming.html)) para adentrarse en el mundo de la programación orientada a objetos en Python, a pesar de que lo que hemos visto en esta sección es suficiente para realizar la práctica."
   ]
  },
  {
   "cell_type": "markdown",
   "metadata": {},
   "source": [
    "Finalmente, una vez tenemos definidos a los usuarios de nuestro protocolo como clases de Python, podemos implementar todo el protocolo haciendo llamadas a estas clases. Por ejemplo, la clase `Client` del ejemplo anterior corresponde a un usuario del protocolo de intercambio de claves de Diffie y Hellman. Por lo tanto, la implementación del protocolo sería la que se muestra a continuación. "
   ]
  },
  {
   "cell_type": "code",
   "execution_count": 92,
   "metadata": {},
   "outputs": [
    {
     "name": "stdout",
     "output_type": "stream",
     "text": [
      "Shared key obtained by A = 895. Shared key obtained by B = 895\n"
     ]
    }
   ],
   "source": [
    "class Client:\n",
    "\n",
    "    def __init__(self, alpha, a, p):\n",
    "        self.alpha = alpha\n",
    "        self.a = a\n",
    "        self.p = p\n",
    "\n",
    "    def public_value(self):\n",
    "        self.k_pub = pow(self.alpha, self.a, self.p)\n",
    "        return self.k_pub\n",
    "\n",
    "    def shared_key(self, k_pub_counter_part):\n",
    "        self.shared_key = pow(k_pub_counter_part, self.a, self.p)\n",
    "        return self.shared_key\n",
    "\n",
    "\n",
    "user_A = Client(3, 221, 1087)\n",
    "user_B = Client(3, 254, 1087)\n",
    "\n",
    "protocol_step_1 = user_A.public_value()\n",
    "protocol_step_2 = user_B.public_value()\n",
    "shared_key_A = user_A.shared_key(protocol_step_2)\n",
    "shared_key_B = user_B.shared_key(protocol_step_1)\n",
    "\n",
    "print(\"Shared key obtained by A = {}. Shared key obtained by B = {}\".format(\n",
    "            shared_key_A, shared_key_B))"
   ]
  },
  {
   "cell_type": "markdown",
   "metadata": {},
   "source": [
    "## Parte 1\n",
    "\n",
    "---\n",
    "\n",
    "### Ejercicio 1 (1.5 puntos)\n",
    "\n",
    "\n",
    "En este primer ejercicio tendréis que implementar el protocolo criptográfico de la cena de los criptógrafos básico. Para hacerlo, podéis suponer que cada pareja de criptógrafos ha compartido un secreto antes de ejecutar el protocolo. Tendréis que implementarlo siguiendo el paradigma de programación orientada a objetos que hemos introducido en los preliminares anteriores. Para hacer este primer ejercicio, podéis suponer que el bit del mensaje se codifica como un booleano.\n",
    "\n",
    "**Apartado A (1 punto)** Implementad los siguientes métodos `__init__`, `set_secrets` y `encode` de la clase `DCBasic`, el esqueleto de la cual encontraréis a continuación:\n",
    "\n",
    "- `__init__`: es el constructor de la clase. Recibe como parámetros el nombre del nodo. El constructor inicializa la lista de secretos compartidos y el atributo `name`.\n",
    "\n",
    "- `set_secrets`: es el *setter* del atributo `secrets` (la lista de secretos compartidos).\n",
    "\n",
    "- `encode`: este método implementa la operación XOR del protocolo de la cena de los criptógrafos entre los mensajes (de un bit) que recibe como argumentos."
   ]
  },
  {
   "cell_type": "code",
   "execution_count": 93,
   "metadata": {},
   "outputs": [],
   "source": [
    "class DCBasic():\n",
    "    \"\"\"This class implements a cryptographer node of the basic\n",
    "    Dining Cryptographers protocol.\n",
    "    \"\"\"\n",
    "    def __init__(self, name):\n",
    "        \"\"\"\n",
    "        Initialize class attributes.\n",
    "        \"\"\"\n",
    "        # --- IMPLEMENTATION GOES HERE ---\n",
    "        self.name= name\n",
    "        #default secrets list(doesnt make much sense but is required)\n",
    "        self.secrets = self.set_secrets([0,1])\n",
    "        # --------------------------------\n",
    "\n",
    "    def set_secrets(self, secrets):\n",
    "        \"\"\"\n",
    "        Set the node's secrets.\n",
    "\n",
    "        This method has to initialize secrets shared with\n",
    "        this node's neighbors.\n",
    "        \n",
    "        :param secrets: list of integers.\n",
    "        \"\"\"\n",
    "        # --- IMPLEMENTATION GOES HERE ---\n",
    "        self.first_secret=secrets[0]\n",
    "        self.second_secret=secrets[1]\n",
    "\n",
    "        # --------------------------------\n",
    "        \n",
    "    def encode(self, bit):\n",
    "        \"\"\"\n",
    "        Compute the DC's operation.\n",
    "\n",
    "        This method performs the XOR operation on the secrets\n",
    "        and the `bit` parameter.\n",
    "        \n",
    "        :param bit: bool, bit to encode.\n",
    "        :return: bool, result of the operation.\n",
    "        \"\"\"\n",
    "        # --- IMPLEMENTATION GOES HERE ---\n",
    "        self.public_bit= self.first_secret ^ self.second_secret ^ bit\n",
    "        return self.public_bit\n",
    "\n",
    "        # --------------------------------\n",
    "        \n",
    "    \"\"\"\n",
    "    Test\n",
    "    daniC=DCBasic(\"dani\")\n",
    "    print(daniC.name)\n",
    "    print(f\"Default first node secret  {daniC.first_secret}\")\n",
    "    print(f\"Default second node secret {daniC.second_secret}\")\n",
    "    daniC.set_secrets([1,0])\n",
    "    print(f\"Changed secret first node {daniC.first_secret}\")\n",
    "    print(f\"Changed secret second node {daniC.second_secret}\")\n",
    "\n",
    "    print(f\"encoding result for 0 =>{daniC.encode(0)}\")\n",
    "    print(f\"encoding result for 1 =>{daniC.encode(1)}\")\n",
    "    \"\"\""
   ]
  },
  {
   "cell_type": "markdown",
   "metadata": {},
   "source": [
    "---\n",
    "\n",
    "**Apartado B (0.5 punts)** Supón que uno de los DCs ha pagado la cena. Crea tres instancias de la clase `DCBasic`, inicializa los secretos y envía mensajes a cada criptógrafo. Finalmente, comprueba que, efectivamente, uno de los DCs ha pagado la cena.\n",
    "\n",
    "Para inicializar los secretos tendrás que implementar la función `calc_secret` la cual genera un bit aleatorio.\n"
   ]
  },
  {
   "cell_type": "code",
   "execution_count": 94,
   "metadata": {},
   "outputs": [],
   "source": [
    "import random\n",
    "\n",
    "# implement a method to generate the secrets\n",
    "def calc_secret():\n",
    "    # --- IMPLEMENTATION GOES HERE ---\n",
    "    return random.randint(0,1)\n",
    "    # --------------------------------\n",
    "#Tester\n",
    "\n",
    "#for i in range(10):\n",
    "#    print(f\"Iteration {i} secret {calc_secret()}\")\n"
   ]
  },
  {
   "cell_type": "code",
   "execution_count": 95,
   "metadata": {},
   "outputs": [],
   "source": [
    "# create three instances of the DCBasic class\n",
    "# --- IMPLEMENTATION GOES HERE ---\n",
    "daniA=DCBasic(\"dani\")\n",
    "pepeB=DCBasic(\"pepe\")\n",
    "juanC=DCBasic(\"juan\")\n",
    "# --------------------------------"
   ]
  },
  {
   "cell_type": "code",
   "execution_count": 96,
   "metadata": {},
   "outputs": [],
   "source": [
    "\n",
    "# generate three secrets\n",
    "# --- IMPLEMENTATION GOES HERE ---\n",
    "AB_secret=calc_secret()\n",
    "AC_secret=calc_secret()\n",
    "BC_secret=calc_secret()\n",
    "# --------------------------------"
   ]
  },
  {
   "cell_type": "code",
   "execution_count": 97,
   "metadata": {},
   "outputs": [],
   "source": [
    "# share each secret with a pair of cryptographers:\n",
    "# --- IMPLEMENTATION GOES HERE ---\n",
    "#setting dani secrets\n",
    "daniA.set_secrets([AB_secret,AC_secret])\n",
    "#setting pepe secrets\n",
    "pepeB.set_secrets([AC_secret,BC_secret])\n",
    "#setting juan secrets\n",
    "juanC.set_secrets([AB_secret,BC_secret])\n",
    "# --------------------------------"
   ]
  },
  {
   "cell_type": "code",
   "execution_count": 98,
   "metadata": {},
   "outputs": [
    {
     "data": {
      "text/plain": [
       "0"
      ]
     },
     "execution_count": 98,
     "metadata": {},
     "output_type": "execute_result"
    }
   ],
   "source": [
    "# the cryptographers encode their messages (one of them has paid):\n",
    "# --- IMPLEMENTATION GOES HERE ---\n",
    "#lets make juan pay for the food\n",
    "daniA.encode(0)\n",
    "pepeB.encode(0)\n",
    "juanC.encode(1)\n",
    "# --------------------------------"
   ]
  },
  {
   "cell_type": "code",
   "execution_count": 99,
   "metadata": {},
   "outputs": [],
   "source": [
    "# compute the result:\n",
    "# --- IMPLEMENTATION GOES HERE ---\n",
    "def check_paid(public_bits):\n",
    "    #:param public_bits: list of integers.\n",
    "    return public_bits[0] ^ public_bits[1] ^ public_bits[2]\n",
    "# --------------------------------\n",
    "result = check_paid([daniA.public_bit,pepeB.public_bit,juanC.public_bit])\n"
   ]
  },
  {
   "cell_type": "markdown",
   "metadata": {},
   "source": [
    "---\n",
    "\n",
    "Comprueba si la NSA ha pagado la cena:"
   ]
  },
  {
   "cell_type": "code",
   "execution_count": 100,
   "metadata": {},
   "outputs": [
    {
     "name": "stdout",
     "output_type": "stream",
     "text": [
      "A cryptographer has paid.\n"
     ]
    }
   ],
   "source": [
    "if result == 0:\n",
    "    print(\"The NSA has paid.\")\n",
    "else:\n",
    "    print(\"A cryptographer has paid.\")"
   ]
  },
  {
   "cell_type": "markdown",
   "metadata": {},
   "source": [
    "### Ejercicio 2 (1.5 puntos)\n",
    "\n",
    "Extiende la clase anterior (`DCBasic`) a una nueva clase llamada `DCPadded` para que los criptógrafos puedan transmitir mensajes de más de un bit. Aún puedes suponer que cada pareja de criptógrafos tiene un secreto compartido. Los mensajes tienen que tener un tamaño fijo definido en el constructor de la clase. Ten en cuenta que esto quiere decir que si un mensaje es más pequeño que el tamaño fijado, tendremos que añadir *padding* al final del mensaje. El *padding* será una secuencia de ceros que se añadirá al final del mensaje para que su tamaño llegue a tamaño predefinido. Podéis suponer que no se envían mensajes más grandes que la mida fijada.\n",
    "\n",
    "- Haced uso del tipo de datos `bytes` para codificar los mensajes: https://docs.python.org/3/library/stdtypes.html#bytes-objects\n",
    "\n",
    "- Podéis utilizar el método `os.urandom` para generar una secuencia de bytes aleatoria.\n",
    "\n",
    "- Podéis utilizar el constructor del tipo de datos `bytes(size)` para construir una secuencia de bytes vacía de tamaño `size`.\n",
    "\n",
    "**Apartado A (1 punto)** Implementa los métodos `pad` y `encode` de la clase `DCPadded`.\n",
    "\n",
    "- `pad`: este método recibe un mensaje y añade el *padding* necesario para llegar al tamaño predefinido. Devuelve el mensaje con el *padding*.\n",
    "- `encode`: como antes, realiza la operación XOR pero ahora lo hace con mensajes de más de un bit.\n",
    "- `__init__`: el constructor tiene que analizar un nuevo atributo llamado `msglen` que especifica el tamaño fijo de los mensajes."
   ]
  },
  {
   "cell_type": "code",
   "execution_count": 101,
   "metadata": {},
   "outputs": [],
   "source": [
    "class DCPadded(DCBasic):\n",
    "    \"\"\"This class extends the class `DCBasic` to support messages\n",
    "    that are longer than one bit.\n",
    "    \"\"\"\n",
    "    def __init__(self, name, msglen):\n",
    "        \"\"\"\n",
    "        Initialize class attributes.\n",
    "        \"\"\"\n",
    "        # --- IMPLEMENTATION GOES HERE ---\n",
    "        self.name=name\n",
    "        self.msglen=msglen\n",
    "        # --------------------------------\n",
    "        \n",
    "    def pad(self, message):\n",
    "        \"\"\"\n",
    "        Pad the message to a fixed length.\n",
    "        \n",
    "        :param message: bytes, message to pad.\n",
    "        :return: bytes, padded message.\n",
    "        \"\"\"\n",
    "        # --- IMPLEMENTATION GOES HERE ---\n",
    "        # fixed length\n",
    "        return message.ljust(self.msglen,b'\\x00')\n",
    "        # --------------------------------\n",
    "\n",
    "    def encode(self, message):\n",
    "        \"\"\"\n",
    "        Compute the DC's operation.\n",
    "\n",
    "        This method performs the XOR operation on the secrets\n",
    "        and the `message` argument.\n",
    "        \n",
    "        :param message: bytes, message to encode.\n",
    "        :return: bytes, result of the operation.\n",
    "        \"\"\"\n",
    "        # --- IMPLEMENTATION GOES HERE ---\n",
    "        pad_msg=self.pad(message)\n",
    "        self.public_msg =bytes([b0 ^ b1 ^ b2 for b0, b1, b2 in zip(pad_msg, self.first_secret, self.second_secret)])\n",
    "        return self.public_msg\n",
    "        # --------------------------------"
   ]
  },
  {
   "cell_type": "markdown",
   "metadata": {},
   "source": [
    "---\n",
    "\n",
    "**Apartado B (0.5 punts)** Crea tres instancias de la nueva clase con el tamaño especificado en una variable global llamada `MSGLEN`, y haz que uno de los criptógrafos envíe un mensaje."
   ]
  },
  {
   "cell_type": "code",
   "execution_count": 102,
   "metadata": {},
   "outputs": [],
   "source": [
    "MSGLEN = 50  # bytes"
   ]
  },
  {
   "cell_type": "code",
   "execution_count": 103,
   "metadata": {},
   "outputs": [],
   "source": [
    "# --- IMPLEMENTATION GOES HERE ---\n",
    "daniA=DCPadded(\"dani\",MSGLEN)\n",
    "pepeB=DCPadded(\"pepe\",MSGLEN)\n",
    "juanC=DCPadded(\"juan\",MSGLEN)\n",
    "# --------------------------------"
   ]
  },
  {
   "cell_type": "code",
   "execution_count": 104,
   "metadata": {},
   "outputs": [],
   "source": [
    "import os\n",
    "\n",
    "# genera un secreto para cada par de criptógrafos\n",
    "def calc_secret(msglen):\n",
    "    # --- IMPLEMENTATION GOES HERE ---\n",
    "    return os.urandom(msglen)\n",
    "    # --------------------------------"
   ]
  },
  {
   "cell_type": "code",
   "execution_count": 105,
   "metadata": {},
   "outputs": [],
   "source": [
    "# generate three secrets\n",
    "# --- IMPLEMENTATION GOES HERE ---\n",
    "AB_secret=calc_secret(MSGLEN)\n",
    "AC_secret=calc_secret(MSGLEN)\n",
    "BC_secret=calc_secret(MSGLEN)\n",
    "# --------------------------------"
   ]
  },
  {
   "cell_type": "code",
   "execution_count": 106,
   "metadata": {},
   "outputs": [],
   "source": [
    "# assigna a cada criptógrafo el secreto compartido con cada uno de sus vecinos\n",
    "# --- IMPLEMENTATION GOES HERE ---\n",
    "#setting dani secrets\n",
    "daniA.set_secrets([AB_secret,AC_secret])\n",
    "#setting pepe secrets\n",
    "pepeB.set_secrets([AC_secret,BC_secret])\n",
    "#setting juan secrets\n",
    "juanC.set_secrets([AB_secret,BC_secret])\n",
    "# --------------------------------"
   ]
  },
  {
   "cell_type": "code",
   "execution_count": 107,
   "metadata": {},
   "outputs": [
    {
     "name": "stdout",
     "output_type": "stream",
     "text": [
      "Message 0=>b'\\xafS:\\xab\\x82\\xa3\\xb6\\x0e1}?4E\\xe8b\\xf4\\xbe\\xc7\\x03l{\\xe9\\x8d\\xd1]\\xb8\\xa8\\xbc@b0\\xb0z\\xf2\\x99S\\xfc\\xbb\\xfbj>\\x0b\\x0fy\\xaf\\xae\\xc0\\x15\\x1c\\xf1'\n",
      "Message 1=>b'\\xbe\\x0e\\xb0\\xe3B\\xf2\\x8eB2@9T\\xd3w\\xab\\xec;?{\\x0b\\x18N\\x8c\\xf0\\xd0\\xa2m\\x07-X<GH2\\xe3\\xf5B\"\\x0cA\\x02\\x8c\\xa3\\x92\\x81\\xe8\\xb9\\'<F'\n",
      "Message 2=>b'U<\\xe4!\\xa5=\\x18\\x1fbSe\\x08\\xf3\\xe5\\xe9q\\xf6\\xd8\\x0c\\x0f\\x06\\x87Un\\xddU\\xc5\\xbbm:\\x0c\\xf72\\xc0z\\xa6\\xbe\\x99\\xf7+<\\x87\\xac\\xeb.Fy2 \\xb7'\n"
     ]
    }
   ],
   "source": [
    "# uno de los criptógrafos envía un mensaje\n",
    "#message = b'\\x01' * 4+ b'\\x02' * 4\n",
    "message=b'\\x44\\x61\\x6e\\x69\\x65\\x6c\\x20\\x53\\x61\\x6e\\x63\\x68\\x65\\x7a\\x20\\x69\\x73\\x20\\x74\\x68\\x65\\x20\\x54\\x4f\\x50\\x4f'\n",
    "Empty = bytes(MSGLEN)\n",
    "\n",
    "# --- IMPLEMENTATION GOES HERE ---\n",
    "#lets make juan send a message\n",
    "m0=daniA.encode(Empty)\n",
    "m1=pepeB.encode(Empty)\n",
    "m2=juanC.encode(message)\n",
    "# --------------------------------\n",
    "\n",
    "print(f\"Message 0=>{m0}\")\n",
    "print(f\"Message 1=>{m1}\")\n",
    "print(f\"Message 2=>{m2}\")"
   ]
  },
  {
   "cell_type": "markdown",
   "metadata": {},
   "source": [
    "---\n",
    "\n",
    "Comprueba que el tamaño de los mensajes corresponde al tamaño predefinido:"
   ]
  },
  {
   "cell_type": "code",
   "execution_count": 108,
   "metadata": {},
   "outputs": [],
   "source": [
    "output = bytes([b0 ^ b1 ^ b2 for b0, b1, b2 in zip(m0, m1, m2)])\n",
    "\n",
    "assert len(message) < MSGLEN\n",
    "assert len(output) == MSGLEN"
   ]
  },
  {
   "cell_type": "code",
   "execution_count": 109,
   "metadata": {},
   "outputs": [
    {
     "data": {
      "text/plain": [
       "b'Daniel Sanchez is the TOPO'"
      ]
     },
     "execution_count": 109,
     "metadata": {},
     "output_type": "execute_result"
    }
   ],
   "source": [
    "message"
   ]
  },
  {
   "cell_type": "code",
   "execution_count": 110,
   "metadata": {},
   "outputs": [
    {
     "data": {
      "text/plain": [
       "b'Daniel Sanchez is the TOPO\\x00\\x00\\x00\\x00\\x00\\x00\\x00\\x00\\x00\\x00\\x00\\x00\\x00\\x00\\x00\\x00\\x00\\x00\\x00\\x00\\x00\\x00\\x00\\x00'"
      ]
     },
     "execution_count": 110,
     "metadata": {},
     "output_type": "execute_result"
    }
   ],
   "source": [
    "output"
   ]
  },
  {
   "cell_type": "markdown",
   "metadata": {},
   "source": [
    "---\n",
    "### Parte 1: Preguntas (2.5 puntos)\n"
   ]
  },
  {
   "cell_type": "markdown",
   "metadata": {},
   "source": [
    "#### Q1 (0.5 puntos). Describe y justifica qué tipos de anonimato es deseable en un sistema de publicación de documentos filtrados como el que se ha descrito en la introducción (p.e., anonimato del servidor respecto a terceros, anonimato de los clientes respecto al servidor, etc.)."
   ]
  },
  {
   "cell_type": "markdown",
   "metadata": {},
   "source": [
    "<div class=\"alert alert-block alert-success\">\n",
    "Respuesta:\n",
    "   En este caso puede ser interesante disponer de anonimato del servidor respecto a terceros principalmente por que si se alojan documentos filtrados es bastante probable que haya terceros interesados en eliminar el contenido del servidor. Pero en este caso también es interesante el anonimato de los clientes respecto al servidor ya que en el caso de que el servidor sea comprometido por un tercero dispondría los datos de las personas que han accedido a los documentos las cuales se encontrarían comprometidas respecto al que ha accedido a los datos del servidor.\n",
    "</div>"
   ]
  },
  {
   "cell_type": "markdown",
   "metadata": {},
   "source": [
    "#### Q2 (0.5 puntos). La arquitectura de la red DC descrita en la introducción utiliza un servidor que hace las operaciones XOR sobre los mensajes enviados por los nodos y publica los documentos. Describe el modelo de adversario que se está suponiendo implícitamente."
   ]
  },
  {
   "cell_type": "markdown",
   "metadata": {},
   "source": [
    "<div class=\"alert alert-block alert-success\">\n",
    "Respuesta: Este tipo de red consigue privacidad perfecta tanto para el receptor como para el emisor y consigue protección contra un adversario interno si bien para que funcione todos los nodos deben cumplir las normas establecidas ya que si cualquiera de los nodos internos es malicioso si bien no podrá saber quien envió el mensaje si que puede hacer que el mensaje no llegue a ningún nodo.\n",
    "    \n",
    "</div>"
   ]
  },
  {
   "cell_type": "markdown",
   "metadata": {},
   "source": [
    "#### Q3 (0.5 puntos). Menciona algunos de los ataques que un nodo malicioso puede desplegar en el escenario descrito en la introducción:"
   ]
  },
  {
   "cell_type": "markdown",
   "metadata": {},
   "source": [
    "<div class=\"alert alert-block alert-success\">\n",
    "Respuesta: Podría llevar a cabo un ataque de DOS ya que al enviar los resultados de su operación XOR puede modificarlos a su antojo invalidando los mensajes de la red.\n",
    "    \n",
    "</div>"
   ]
  },
  {
   "cell_type": "markdown",
   "metadata": {},
   "source": [
    "#### Q4 (0.5 puntos): Hemos supuesto que podemos asignar los secretos a cada pareja de criptógrafos. Explica cómo harías la compartición de secretos en la práctica sin una entidad de confianza que los asigne."
   ]
  },
  {
   "cell_type": "markdown",
   "metadata": {},
   "source": [
    "<div class=\"alert alert-block alert-success\">\n",
    "Respuesta: si no hubiera una entidad de cofianza al menos tendría que haber un directorio que incluyera los nodos para saber con que nodos vecinos se tienen que intercambiar los secretos, en cuanto al intercambio de los mismos se podría usar Diffie Hellman para intercambiar el secreto ya que no necesita que las dos partes tengan ningún conocimiento previo para compartir un secreto de forma segura entre ambas.\n",
    "    \n",
    "</div>"
   ]
  },
  {
   "cell_type": "markdown",
   "metadata": {},
   "source": [
    "#### Q5 (0.5 puntos). En el ejercicio 2, hemos supuesto que los mensajes son siempre más pequeños que un tamaño fijado. Explica qué modificaciones harías en la clase DCPadded para soportar mensajes que superan ese tamaño."
   ]
  },
  {
   "cell_type": "markdown",
   "metadata": {},
   "source": [
    "<div class=\"alert alert-block alert-success\">\n",
    "Respuesta: Se podría dividir el mensaje en bloques, dividiendo el tamaño del mensaje entre el tamaño máximo del bloque, el último bloque se rellenaría con padding tal y como se hace ahora y luego se mandarían n mensajes en función del número de bloques, para que luego no hubiera problemas de ordeación se podría incluir en el protocolo un número de secuencia para que al decodificar no se altere el orden de los paquetes. Pero habría que implementar un sistema que renovara los secretos para cada bloque ya que si no los mensajes vacíos envíaran siempre el mismo mensaje cifrado al ser un xor lo que haría que se identificara facilmente el nodo que está enviando los mensajes con respecto a los que simplemente envían paquetes vacíos.\n",
    "    \n",
    "</div>"
   ]
  },
  {
   "cell_type": "markdown",
   "metadata": {},
   "source": [
    "## Preliminares II: simulaciones de eventos discretos\n",
    "---\n",
    "\n",
    "Para simular una red utilizaremos el módulo *SimPy*, un módulo de Python que permite hacer simulaciones. Muchos de vosotros conoceréis la librería *SymPy* para hacer cálculo simbólico. Tened en cuenta que se trata de dos librerías distintas.\n",
    "\n",
    "Los elementos básicos de una simulación de SimPy son los procesos y los eventos. Los **procesos** modelan los componentes activos de la simulación. Por ejemplo, para simular una red, los procesos generan paquetes de la red. Los procesos residen en un entorno de SimPy y interactúan con el entorno y entre ellos a través de **eventos**. Los entornos de SimPy mantienen un bucle de eventos que mide el paso del tiempo y que se puede emplear para programar la activación de los eventos de la simulación.\n",
    "\n",
    "Los procesos se describen con *generadores* de Python. Los generadores son parecidos a los iterables pero solo se puede iterar una vez. La principal diferencia entre un generador y un iterable es que el generador hace una evaluación perezosa. Veamoslo con un ejemplo."
   ]
  },
  {
   "cell_type": "code",
   "execution_count": 111,
   "metadata": {
    "scrolled": true
   },
   "outputs": [
    {
     "name": "stdout",
     "output_type": "stream",
     "text": [
      "0\n",
      "1\n",
      "2\n"
     ]
    }
   ],
   "source": [
    "# iterable\n",
    "for i in [0, 1, 2]:\n",
    "    print(i)"
   ]
  },
  {
   "cell_type": "code",
   "execution_count": 112,
   "metadata": {},
   "outputs": [
    {
     "name": "stdout",
     "output_type": "stream",
     "text": [
      "0\n",
      "1\n",
      "2\n"
     ]
    }
   ],
   "source": [
    "# generator\n",
    "def generator_function():\n",
    "    for i in [0, 1, 2]:\n",
    "        yield i\n",
    "\n",
    "for i in generator_function():\n",
    "    print(i)"
   ]
  },
  {
   "cell_type": "markdown",
   "metadata": {},
   "source": [
    "La primera diferencia que observamos es que los generadores utilizan la palabra especial `yield`. En segundo lugar, aunque los dos bucles aparentemente hacen lo mismo, los generadores evalúan perezosamente, mientras que el iterable evaluate antes de ser recorrido."
   ]
  },
  {
   "cell_type": "markdown",
   "metadata": {},
   "source": [
    "Un proceso de SimPy utiliza `yield` para crear eventos en el entorno de SimPy. Estos eventos se programan asíncronamente para ser activados en un instante determinado. Entonces, el proceso se pausa hasta que el evento se activa y se retoma la ejecución del proceso."
   ]
  },
  {
   "cell_type": "markdown",
   "metadata": {},
   "source": [
    "Los eventos suelen tener funciones *callback* asociada, las cuales se llaman cuando el evento se activa y se procesa por el bucle de eventos de SimPy."
   ]
  },
  {
   "cell_type": "markdown",
   "metadata": {},
   "source": [
    "Veamos un ejemplo simple de una simulación con SimPy. La simulación consiste en una simulación del recorrido de un coche, representado como una secuencia de estacionamientos y de salidas. El proceso principal de la simulación es un generador de salidas y de estacionamientos.\n",
    "\n",
    "El proceso en este caso está definido con una función pero se pueden crear procesos en métodos de clases."
   ]
  },
  {
   "cell_type": "code",
   "execution_count": 113,
   "metadata": {},
   "outputs": [],
   "source": [
    "def Car(env):\n",
    "    while True:\n",
    "        print('Start parking at %d' % env.now)\n",
    "        parking_duration = 5\n",
    "        yield env.timeout(parking_duration)\n",
    "\n",
    "        print('Start driving at %d' % env.now)\n",
    "        trip_duration = 2\n",
    "        yield env.timeout(trip_duration)"
   ]
  },
  {
   "cell_type": "markdown",
   "metadata": {},
   "source": [
    "El proceso crea una secuencia de eventos de llegada (el primer `yield`) que tienen una duración de 5 segundos, seguidos de eventos de salida (segundo `yield`) con una duración de 2 segundos.\n",
    "\n",
    "Para ejecutar la simulación, primero creamos un entorno:"
   ]
  },
  {
   "cell_type": "code",
   "execution_count": 114,
   "metadata": {},
   "outputs": [],
   "source": [
    "import simpy\n",
    "\n",
    "env = simpy.Environment()"
   ]
  },
  {
   "cell_type": "markdown",
   "metadata": {},
   "source": [
    "Entonces, añadimos el proceso `Car` dentro del entorno que hemos creado."
   ]
  },
  {
   "cell_type": "code",
   "execution_count": 115,
   "metadata": {},
   "outputs": [
    {
     "data": {
      "text/plain": [
       "<Process(Car) object at 0x7f3df43ff4c0>"
      ]
     },
     "execution_count": 115,
     "metadata": {},
     "output_type": "execute_result"
    }
   ],
   "source": [
    "env.process(Car(env))"
   ]
  },
  {
   "cell_type": "markdown",
   "metadata": {},
   "source": [
    "Finalmente, ejecutamos el entorno -- y su proceso --  hasta que el reloj llega al segundo 15:"
   ]
  },
  {
   "cell_type": "code",
   "execution_count": 116,
   "metadata": {},
   "outputs": [
    {
     "name": "stdout",
     "output_type": "stream",
     "text": [
      "Start parking at 0\n",
      "Start driving at 5\n",
      "Start parking at 7\n",
      "Start driving at 12\n",
      "Start parking at 14\n"
     ]
    }
   ],
   "source": [
    "env.run(until=15)"
   ]
  },
  {
   "cell_type": "markdown",
   "metadata": {},
   "source": [
    "Podéis consultar más información sobre SimPy en los siguientes recursos:\n",
    "\n",
    " - https://simpy.readthedocs.io/en/latest/topical_guides/simpy_basics.html\n",
    " - https://buildmedia.readthedocs.org/media/pdf/simpy/latest/simpy.pdf"
   ]
  },
  {
   "cell_type": "markdown",
   "metadata": {},
   "source": [
    "### Simulación de una red con SimPy\n",
    "\n",
    "A continuación definimos los procesos y eventos para simular una red y utilizaremos nuestra clase `DCPadded` para ejecutar instancias de la clase DCNode en la red simulada.\n",
    "\n",
    "La primera clase que utilizaremos para simular la red es la clase `Packet`. Esta clase describe un paquete de la red: timestamp del envío, el tamaño, el origen, el destino y el contenido (*payload*)."
   ]
  },
  {
   "cell_type": "code",
   "execution_count": 117,
   "metadata": {},
   "outputs": [],
   "source": [
    "class Packet():\n",
    "    \"\"\"\n",
    "    A very simple class that represents a network packet.\n",
    "\n",
    "    :param time: float, the time the packet arrives at the output queue.\n",
    "    :param size: float, the size of the packet in bytes.\n",
    "    :param id: int, an identifier for the packet.\n",
    "    :param payload: bytes, sequence of bytes; the content of the packet.\n",
    "    :param src, dst: int, identifiers for source and destination.\n",
    "    :param flow_id: int, small integer that can be used to identify a flow.\n",
    "    \"\"\"\n",
    "    def __init__(self, time, size, id, payload, src=\"a\", dst=\"z\", flow_id=0):\n",
    "        self.time = time\n",
    "        self.size = size\n",
    "        self.id = id\n",
    "        self.src = src\n",
    "        self.dst = dst\n",
    "        self.flow_id = flow_id\n",
    "        self.payload = payload\n",
    "\n",
    "    def __repr__(self):\n",
    "        '''Return a str representation of the packet.'''\n",
    "        return \"id: {}, src: {}, time: {}, size: {}\".\\\n",
    "            format(self.id, self.src, self.time, self.size)"
   ]
  },
  {
   "cell_type": "markdown",
   "metadata": {},
   "source": [
    "Entonces, el proceso de SimPy implementado en el método `run` de la clase `PacketGenerator` (en la siguiente celda), genera paquetes de la red siguiendo una distribución de tiempos y de tamaños. En la terminología de SimPy, las llegadas de los paquetes (definidas por la distribución de tiempos) son los eventos.\n",
    "\n",
    "Los documentos que se generan son cadenas de unos (prestad atención a cómo se crea el payload en el método `run`).\n",
    "\n",
    "En `self.out`, se guarda la instancia que está \"conectada\" a la salida. Utilizando este atributo podemos conectar los objetos de la red entre si.\n",
    "\n",
    "Es importante que leáis los parámetros del docstring del generador de paquetes, pues los utilizaremos en los ejercicios. Estos parámetros permiten indicar el tamaño del documento (el número máximo de paquetes), si hay un retardo inicial en el envío, y si las distribuciones de tiempos y tamaños que sigue el generador de paquetes. "
   ]
  },
  {
   "cell_type": "code",
   "execution_count": 118,
   "metadata": {},
   "outputs": [],
   "source": [
    "class PacketGenerator():\n",
    "    \"\"\"\n",
    "    Generates packets with a given inter-arrival time distribution.\n",
    "    \n",
    "    The packets will have a byte array of non-zero values as payload by default.\n",
    "    \n",
    "    Set the \"out\" member variable to the entity to receive the packet.\n",
    "\n",
    "    :param env: simpy.Environment, the simulation environment.\n",
    "    :param adist: a no parameter function that returns the successive inter-arrival times of the packets.\n",
    "    :param sdist: a no parameter function that returns the successive sizes of the packets.\n",
    "    :param initial_delay, dst: int, starts generation after an initial delay. Default = 0.\n",
    "    :param finish: number, stops generation at the finish time. Default is infinite.\n",
    "    :param total_packets: int, maximum number of packets to generate. Default = 1000.\n",
    "    :param empty: bool, whether this is a generator of empty packets.\n",
    "    \"\"\"\n",
    "    def __init__(self, env, id,  adist, sdist, initial_delay=0,\n",
    "                 finish=float(\"inf\"), flow_id=0, total_packets=1000, empty=False):\n",
    "        self.id = id\n",
    "        self.env = env\n",
    "        self.adist = adist\n",
    "        self.sdist = sdist\n",
    "        self.sent_size = 0\n",
    "        self.initial_delay = initial_delay\n",
    "        self.finish = finish\n",
    "        self.out = None\n",
    "        self.packets_sent = 0.0\n",
    "        self.flow_id = flow_id\n",
    "        self.empty = empty\n",
    "        self.total_packets = total_packets\n",
    "        \n",
    "        self.action = env.process(self.run())  # starts the run() method as a SimPy process\n",
    "        \n",
    "    def run(self):\n",
    "        \"\"\"The generator function used in the simulations.\"\"\"\n",
    "        yield self.env.timeout(self.initial_delay)\n",
    "        \n",
    "        while self.env.now < self.finish:\n",
    "            # wait for the next transmission\n",
    "            yield self.env.timeout(self.adist())\n",
    "            \n",
    "            self.packets_sent += 1\n",
    "            size = self.sdist()\n",
    "            self.sent_size += size\n",
    "            \n",
    "            # if this is not a generator of empty packets, generate a sequence of 1's\n",
    "            payload = bytes(size) if self.empty else b'\\x01' * size\n",
    "            \n",
    "            # instantiate a packet and send it\n",
    "            p = Packet(self.env.now, size, self.packets_sent, payload,\n",
    "                       src=self.id, flow_id=self.flow_id)\n",
    "\n",
    "            if self.packets_sent <= self.total_packets:\n",
    "                self.out.put(p)"
   ]
  },
  {
   "cell_type": "markdown",
   "metadata": {},
   "source": [
    "La clase `PacketSink` implementa un proceso que recibe los paquetes y registra el tamaño, el origen y la llegada de los paquetes. Utilizaremos `PacketSink` para simular el servidor central. Utilizaremos el parámetro del constructor `debug` para indicar que se mantenga un registro sobre las llegadas de los paquetes (en el atributo `log`). Este registro simula una captura de la red como la que se podría haber recogido con `tcpdump` o `wireshark`."
   ]
  },
  {
   "cell_type": "code",
   "execution_count": 119,
   "metadata": {},
   "outputs": [],
   "source": [
    "class PacketSink():\n",
    "    \"\"\"\n",
    "    Receives packets and collects delay information into the waits list.\n",
    "    \n",
    "    This class models the server to which the DC clients send the documents.\n",
    "    \n",
    "    :param env: simpy.Environment, the simulation environment.\n",
    "    :param debug: bool, if True then the contents of each packet will be printed as it is received.\n",
    "    :param rec_arrivals: bool, if True then arrivals will be recorded.\n",
    "    :param absolute_arrivals: bool, if True the absolute arrival times will be recorded.\n",
    "    :param rec_waits: bool, if True waiting time experienced by each packet is recorded.\n",
    "    :param selector: a function that takes a packet and returns a boolean used for selective stats. Default None.\n",
    "    \"\"\"\n",
    "    def __init__(self, env, rec_arrivals=False, absolute_arrivals=False, rec_waits=True, debug=False, selector=None):\n",
    "        self.store = simpy.Store(env)\n",
    "        self.env = env\n",
    "        self.rec_waits = rec_waits\n",
    "        self.rec_arrivals = rec_arrivals\n",
    "        self.absolute_arrivals = absolute_arrivals\n",
    "        self.waits = []\n",
    "        self.arrivals = []\n",
    "        self.debug = debug\n",
    "        self.packets_rec = 0\n",
    "        self.bytes_rec = 0\n",
    "        self.selector = selector\n",
    "        self.last_arrival = 0.0\n",
    "        self.log = []\n",
    "        self.rec_packets = []\n",
    "\n",
    "    def put(self, pkt):\n",
    "        if not self.selector or self.selector(pkt):\n",
    "            now = self.env.now\n",
    "            if self.rec_waits:\n",
    "                self.waits.append(now - pkt.time)\n",
    "            if self.rec_arrivals:\n",
    "                ts = now if self.absolute_arrivals else now - self.last_arrival\n",
    "                self.arrivals.append(ts)\n",
    "                #mod to log the payload\n",
    "                self.log.append((pkt.id, pkt.src, ts, len(pkt.payload), pkt.payload))\n",
    "                self.last_arrival = now\n",
    "            self.packets_rec += 1\n",
    "            self.bytes_rec += pkt.size\n",
    "            self.rec_packets.append(pkt)\n",
    "            if self.debug:\n",
    "                print(pkt)"
   ]
  },
  {
   "cell_type": "markdown",
   "metadata": {},
   "source": [
    "Por último, creamos un proceso que hace de intermediario y reenvía los paquetes al siguiente nodo tan pronto como le llegan. Esta clase se utilizará como interfaz por los nodos de la red DC (los criptógrafos)."
   ]
  },
  {
   "cell_type": "code",
   "execution_count": 120,
   "metadata": {},
   "outputs": [],
   "source": [
    "class TransparentProxy():\n",
    "    \"\"\"\n",
    "    Receives packets and immediately forwards them to the next node.\n",
    "\n",
    "    :param env: simpy.Environment, the simulation environment.\n",
    "    :param name: str, the name of the proxy.\n",
    "    \"\"\"\n",
    "    def __init__(self, env, name):\n",
    "        self.store = simpy.Store(env)\n",
    "        self.env = env\n",
    "        self.out = None\n",
    "        self.name = name\n",
    "\n",
    "        self.action = env.process(self.run())\n",
    "\n",
    "    def run(self):\n",
    "        '''Specifies what to do when sending a message.'''\n",
    "        while True:\n",
    "            pkt = (yield self.store.get())\n",
    "            self.out.put(pkt)\n",
    "\n",
    "    def put(self, pkt):\n",
    "        '''Specifies what to do when receiving a message.'''\n",
    "        pkt.src = self.name\n",
    "        return self.store.put(pkt)"
   ]
  },
  {
   "cell_type": "markdown",
   "metadata": {},
   "source": [
    "Veamos un ejemplo sencillo que crea una red con un proxy, utilizando las clases anteriores. Mostramos solo los 10 primeros paquetes recibidos por el servidor."
   ]
  },
  {
   "cell_type": "code",
   "execution_count": 121,
   "metadata": {},
   "outputs": [
    {
     "data": {
      "text/html": [
       "<div>\n",
       "<style scoped>\n",
       "    .dataframe tbody tr th:only-of-type {\n",
       "        vertical-align: middle;\n",
       "    }\n",
       "\n",
       "    .dataframe tbody tr th {\n",
       "        vertical-align: top;\n",
       "    }\n",
       "\n",
       "    .dataframe thead th {\n",
       "        text-align: right;\n",
       "    }\n",
       "</style>\n",
       "<table border=\"1\" class=\"dataframe\">\n",
       "  <thead>\n",
       "    <tr style=\"text-align: right;\">\n",
       "      <th></th>\n",
       "      <th>id</th>\n",
       "      <th>src</th>\n",
       "      <th>abstime</th>\n",
       "      <th>size</th>\n",
       "      <th>payload</th>\n",
       "    </tr>\n",
       "  </thead>\n",
       "  <tbody>\n",
       "    <tr>\n",
       "      <th>0</th>\n",
       "      <td>1.0</td>\n",
       "      <td>proxy</td>\n",
       "      <td>0.03</td>\n",
       "      <td>4</td>\n",
       "      <td>b'\\x01\\x01\\x01\\x01'</td>\n",
       "    </tr>\n",
       "    <tr>\n",
       "      <th>1</th>\n",
       "      <td>2.0</td>\n",
       "      <td>proxy</td>\n",
       "      <td>0.04</td>\n",
       "      <td>4</td>\n",
       "      <td>b'\\x01\\x01\\x01\\x01'</td>\n",
       "    </tr>\n",
       "    <tr>\n",
       "      <th>2</th>\n",
       "      <td>3.0</td>\n",
       "      <td>proxy</td>\n",
       "      <td>0.05</td>\n",
       "      <td>6</td>\n",
       "      <td>b'\\x01\\x01\\x01\\x01\\x01\\x01'</td>\n",
       "    </tr>\n",
       "    <tr>\n",
       "      <th>3</th>\n",
       "      <td>4.0</td>\n",
       "      <td>proxy</td>\n",
       "      <td>0.06</td>\n",
       "      <td>5</td>\n",
       "      <td>b'\\x01\\x01\\x01\\x01\\x01'</td>\n",
       "    </tr>\n",
       "    <tr>\n",
       "      <th>4</th>\n",
       "      <td>5.0</td>\n",
       "      <td>proxy</td>\n",
       "      <td>0.07</td>\n",
       "      <td>6</td>\n",
       "      <td>b'\\x01\\x01\\x01\\x01\\x01\\x01'</td>\n",
       "    </tr>\n",
       "    <tr>\n",
       "      <th>5</th>\n",
       "      <td>6.0</td>\n",
       "      <td>proxy</td>\n",
       "      <td>0.08</td>\n",
       "      <td>2</td>\n",
       "      <td>b'\\x01\\x01'</td>\n",
       "    </tr>\n",
       "    <tr>\n",
       "      <th>6</th>\n",
       "      <td>7.0</td>\n",
       "      <td>proxy</td>\n",
       "      <td>0.09</td>\n",
       "      <td>6</td>\n",
       "      <td>b'\\x01\\x01\\x01\\x01\\x01\\x01'</td>\n",
       "    </tr>\n",
       "    <tr>\n",
       "      <th>7</th>\n",
       "      <td>8.0</td>\n",
       "      <td>proxy</td>\n",
       "      <td>0.10</td>\n",
       "      <td>5</td>\n",
       "      <td>b'\\x01\\x01\\x01\\x01\\x01'</td>\n",
       "    </tr>\n",
       "    <tr>\n",
       "      <th>8</th>\n",
       "      <td>9.0</td>\n",
       "      <td>proxy</td>\n",
       "      <td>0.11</td>\n",
       "      <td>8</td>\n",
       "      <td>b'\\x01\\x01\\x01\\x01\\x01\\x01\\x01\\x01'</td>\n",
       "    </tr>\n",
       "    <tr>\n",
       "      <th>9</th>\n",
       "      <td>10.0</td>\n",
       "      <td>proxy</td>\n",
       "      <td>0.12</td>\n",
       "      <td>5</td>\n",
       "      <td>b'\\x01\\x01\\x01\\x01\\x01'</td>\n",
       "    </tr>\n",
       "  </tbody>\n",
       "</table>\n",
       "</div>"
      ],
      "text/plain": [
       "     id    src  abstime  size                              payload\n",
       "0   1.0  proxy     0.03     4                  b'\\x01\\x01\\x01\\x01'\n",
       "1   2.0  proxy     0.04     4                  b'\\x01\\x01\\x01\\x01'\n",
       "2   3.0  proxy     0.05     6          b'\\x01\\x01\\x01\\x01\\x01\\x01'\n",
       "3   4.0  proxy     0.06     5              b'\\x01\\x01\\x01\\x01\\x01'\n",
       "4   5.0  proxy     0.07     6          b'\\x01\\x01\\x01\\x01\\x01\\x01'\n",
       "5   6.0  proxy     0.08     2                          b'\\x01\\x01'\n",
       "6   7.0  proxy     0.09     6          b'\\x01\\x01\\x01\\x01\\x01\\x01'\n",
       "7   8.0  proxy     0.10     5              b'\\x01\\x01\\x01\\x01\\x01'\n",
       "8   9.0  proxy     0.11     8  b'\\x01\\x01\\x01\\x01\\x01\\x01\\x01\\x01'\n",
       "9  10.0  proxy     0.12     5              b'\\x01\\x01\\x01\\x01\\x01'"
      ]
     },
     "execution_count": 121,
     "metadata": {},
     "output_type": "execute_result"
    }
   ],
   "source": [
    "import simpy\n",
    "import pandas as pd\n",
    "import numpy as np\n",
    "\n",
    "\n",
    "env = simpy.Environment()  # Create the SimPy environment\n",
    "\n",
    "# Instantiate the server\n",
    "server = PacketSink(env, rec_arrivals=True, absolute_arrivals=True)  # debugging enable for simple output\n",
    "\n",
    "# Instantiate the proxy\n",
    "proxy = TransparentProxy(env, 'proxy')\n",
    "\n",
    "# Packet size and time distributions\n",
    "def packet_size_dist():\n",
    "    return np.random.binomial(10, 0.5)\n",
    "\n",
    "\n",
    "def packet_time_dist():\n",
    "    return 0.01\n",
    "\n",
    "\n",
    "# Instantiate the client\n",
    "client = PacketGenerator(env, 'cient', packet_time_dist, packet_size_dist,\n",
    "                       initial_delay=0.02, total_packets=30)\n",
    "\n",
    "# Wire source, proxy and server\n",
    "client.out = proxy\n",
    "proxy.out = server\n",
    "\n",
    "env.run(until=10)\n",
    "df = pd.DataFrame(server.log, columns=['id', 'src', 'abstime', 'size','payload'])\n",
    "df.head(n=10)"
   ]
  },
  {
   "cell_type": "markdown",
   "metadata": {},
   "source": [
    "Como podemos observar, la traza de red que se ha generado indica que el origen de los paquetes es el proxy y podemos ver el tamaño y el tiempo absoluto (tiempo transcurrido desde el inicio de la simulación) de cada paquete."
   ]
  },
  {
   "cell_type": "markdown",
   "metadata": {},
   "source": [
    "## Parte 2\n",
    "---\n",
    "\n",
    "### Ejercicio 3 (1 punto)\n",
    "\n",
    "\n",
    "En este ejercicio se hará una simulación de la red DC del escenario descrita en la introducción, utilizando las clases de SimPy introducidas en los preliminares.\n",
    "\n",
    "- En el apartado A, os pedimos que implementéis la clase `DCNode` que recibe los paquetes de la red de entrada, aplica la operación del protocolo la cena de los criptógrafos y, seguidamente, los reenvía al servidor.\n",
    "\n",
    "- En el apartado B, se pide hacer una simulación de la subida de un documento filtrado (`PacketGenerator`) con una red DC de tres nodos (`DCNode`) y un servidor (`PacketSink`).\n",
    "\n",
    "Observad que, en la práctica, el `DCNode` i el `PacketGenerator` pueden ser dos aplicaciones distintas que se ejecutan en el cliente (una transmite el documento y la otra aplica la XOR antes de que se envíe a través de la red)."
   ]
  },
  {
   "cell_type": "markdown",
   "metadata": {},
   "source": [
    "**Apartado A (0.5 puntos)** En primer lugar, extiende la clase `DCPadded` de la Parte 1 de la práctica para que se pueda utilizar en una simulación. En particular, puede utilizar las clases `TransparentProxy` y `DCPadded` como interfaces de la nueva clase `DCNode`.\n",
    "\n",
    "Esta nueva clase tendrá un método `put` que aplicará la operación de la cena de los criptógrafos en los mensajes antes de enviarlos al servidor."
   ]
  },
  {
   "cell_type": "code",
   "execution_count": 122,
   "metadata": {},
   "outputs": [],
   "source": [
    "class DCNode(TransparentProxy, DCPadded):\n",
    "    \n",
    "    def __init__(self, env, name, msglen):\n",
    "        \"\"\"\n",
    "        Initializes the attributes of the class.\n",
    "\n",
    "        :param env: simpy.Environment, the simulation environment.\n",
    "        :param name: str, the name of the proxy.\n",
    "        :param msglen: int, length of the messages.\n",
    "        \"\"\"\n",
    "        # --- IMPLEMENTATION GOES HERE ---\n",
    "        self.store = simpy.Store(env)\n",
    "        self.env = env\n",
    "        self.out = None\n",
    "        self.name = name\n",
    "        self.msglen = msglen\n",
    "        self.action = env.process(self.run())\n",
    "        # --------------------------------\n",
    "\n",
    "    def put(self, pkt):\n",
    "        \"\"\"\n",
    "        Performes the DC operation on the message in the packet `pkt`.\n",
    "\n",
    "        :param pkt: Packet, the packet received and forwarded by the DC.\n",
    "        \"\"\"\n",
    "        # --- IMPLEMENTATION GOES HERE ---\n",
    "        pkt.src = self.name\n",
    "        pkt.payload = self.encode(pkt.payload)\n",
    "        return self.store.put(pkt)\n",
    "        # --------------------------------"
   ]
  },
  {
   "cell_type": "markdown",
   "metadata": {},
   "source": [
    "**Apartado B (0.25 puntos)** Crea instancias de las clases `PacketSink`, `PacketGenerator` y `DCNode` y simula la transmisión de un documento.\n",
    "\n",
    "La red DC tiene que tener tres objetos `DCNode`. \n",
    "\n",
    "Suponed que cada nodo envía un documento, es decir, que hay un `PacketGenerator` para cada `DCNode`. No implementéis, por ahora, la decodificación de los paquetes que recibe el servidor. Los tres generadores de paquetes tienen los mismos parámetros para las distribuciones de tamaños y tiempos:\n",
    "\n",
    "- La distribución de los tiempos de los paquetes es una distribución exponencial con parámetro $scale=0.01$.\n",
    "\n",
    "- La distribución del tamaño de los paquetes es una distribución binomial con parámetros $n=20$ i $p=0.5$.\n",
    "\n",
    "Dejamos los parámetros `total_packets` e `initial_delay` a vuestra elección, pero aseguraros de que los registros del servidor contienen algún paquete."
   ]
  },
  {
   "cell_type": "code",
   "execution_count": 123,
   "metadata": {},
   "outputs": [],
   "source": [
    "import numpy as np\n",
    "import pandas as pd\n",
    "\n",
    "env = simpy.Environment()  # Create the SimPy environment"
   ]
  },
  {
   "cell_type": "code",
   "execution_count": 124,
   "metadata": {},
   "outputs": [],
   "source": [
    "# Implement the time and size distributions\n",
    "\n",
    "def packet_size_dist():\n",
    "    # --- IMPLEMENTATION GOES HERE ---\n",
    "    return np.random.binomial(20, 0.5)\n",
    "    # --------------------------------\n",
    "\n",
    "def packet_time_dist():\n",
    "    # --- IMPLEMENTATION GOES HERE ---\n",
    "    return np.random.exponential(0.01)\n",
    "    # --------------------------------"
   ]
  },
  {
   "cell_type": "code",
   "execution_count": 125,
   "metadata": {},
   "outputs": [],
   "source": [
    "# Instantiate the server\n",
    "# --- IMPLEMENTATION GOES HERE ---\n",
    "#print(packet_time_dist())\n",
    "#print(packet_size_dist())\n",
    "server = PacketSink(env, rec_arrivals=True, absolute_arrivals=True)\n",
    "# --------------------------------"
   ]
  },
  {
   "cell_type": "code",
   "execution_count": 126,
   "metadata": {},
   "outputs": [],
   "source": [
    "# Instantiate the DC nodes\n",
    "# --- IMPLEMENTATION GOES HERE ---\n",
    "MSGLEN = 50  # bytes\n",
    "nodeA=DCNode(env,\"nodeA\",MSGLEN)\n",
    "nodeB=DCNode(env,\"nodeB\",MSGLEN)\n",
    "nodeC=DCNode(env,\"nodeC\",MSGLEN)\n",
    "\n",
    "# --------------------------------"
   ]
  },
  {
   "cell_type": "code",
   "execution_count": 127,
   "metadata": {},
   "outputs": [],
   "source": [
    "# Assign the secrets to the nodes\n",
    "# --- IMPLEMENTATION GOES HERE ---\n",
    "import os\n",
    "# genera un secreto para cada par de criptógrafos\n",
    "def calc_secret(msglen):\n",
    "    return os.urandom(msglen)\n",
    "\n",
    "AB_secret=calc_secret(MSGLEN)\n",
    "AC_secret=calc_secret(MSGLEN)\n",
    "BC_secret=calc_secret(MSGLEN)\n",
    "#setting nodeA secrets\n",
    "nodeA.set_secrets([AB_secret,AC_secret])\n",
    "#setting nodeB secrets\n",
    "nodeB.set_secrets([AC_secret,BC_secret])\n",
    "#setting nodeC secrets\n",
    "nodeC.set_secrets([AB_secret,BC_secret])\n",
    "# --------------------------------"
   ]
  },
  {
   "cell_type": "code",
   "execution_count": 128,
   "metadata": {},
   "outputs": [],
   "source": [
    "# Instantiate the generator of packets for the leaked document\n",
    "# --- IMPLEMENTATION GOES HERE ---\n",
    "clientA = PacketGenerator(env, 'clientA', packet_time_dist, packet_size_dist,\n",
    "                       initial_delay=0.03, total_packets=100)\n",
    "clientB = PacketGenerator(env, 'clientB', packet_time_dist, packet_size_dist,\n",
    "                       initial_delay=0.01, total_packets=100, empty=True)\n",
    "clientC = PacketGenerator(env, 'clientC', packet_time_dist, packet_size_dist,\n",
    "                       initial_delay=0.02, total_packets=100, empty=True)\n",
    "# --------------------------------"
   ]
  },
  {
   "cell_type": "code",
   "execution_count": 129,
   "metadata": {},
   "outputs": [],
   "source": [
    "# Wire packet generators and sink together\n",
    "# --- IMPLEMENTATION GOES HERE ---\n",
    "clientA.out = nodeA\n",
    "nodeA.out = server\n",
    "clientB.out = nodeB\n",
    "nodeB.out = server\n",
    "clientC.out = nodeC\n",
    "nodeC.out = server\n",
    "\n",
    "# --------------------------------"
   ]
  },
  {
   "cell_type": "code",
   "execution_count": 130,
   "metadata": {},
   "outputs": [
    {
     "data": {
      "text/html": [
       "<div>\n",
       "<style scoped>\n",
       "    .dataframe tbody tr th:only-of-type {\n",
       "        vertical-align: middle;\n",
       "    }\n",
       "\n",
       "    .dataframe tbody tr th {\n",
       "        vertical-align: top;\n",
       "    }\n",
       "\n",
       "    .dataframe thead th {\n",
       "        text-align: right;\n",
       "    }\n",
       "</style>\n",
       "<table border=\"1\" class=\"dataframe\">\n",
       "  <thead>\n",
       "    <tr style=\"text-align: right;\">\n",
       "      <th></th>\n",
       "      <th>id</th>\n",
       "      <th>src</th>\n",
       "      <th>abstime</th>\n",
       "      <th>size</th>\n",
       "      <th>payload</th>\n",
       "    </tr>\n",
       "  </thead>\n",
       "  <tbody>\n",
       "    <tr>\n",
       "      <th>0</th>\n",
       "      <td>1.0</td>\n",
       "      <td>nodeB</td>\n",
       "      <td>0.023552</td>\n",
       "      <td>50</td>\n",
       "      <td>b'\\x96\\x1c\\xe0\\x15\\xf1\\xd6\\x8c\\x18\\xf4\\xd2\\x07...</td>\n",
       "    </tr>\n",
       "    <tr>\n",
       "      <th>1</th>\n",
       "      <td>2.0</td>\n",
       "      <td>nodeB</td>\n",
       "      <td>0.027376</td>\n",
       "      <td>50</td>\n",
       "      <td>b'\\x96\\x1c\\xe0\\x15\\xf1\\xd6\\x8c\\x18\\xf4\\xd2\\x07...</td>\n",
       "    </tr>\n",
       "    <tr>\n",
       "      <th>2</th>\n",
       "      <td>3.0</td>\n",
       "      <td>nodeB</td>\n",
       "      <td>0.028528</td>\n",
       "      <td>50</td>\n",
       "      <td>b'\\x96\\x1c\\xe0\\x15\\xf1\\xd6\\x8c\\x18\\xf4\\xd2\\x07...</td>\n",
       "    </tr>\n",
       "    <tr>\n",
       "      <th>3</th>\n",
       "      <td>4.0</td>\n",
       "      <td>nodeB</td>\n",
       "      <td>0.028947</td>\n",
       "      <td>50</td>\n",
       "      <td>b'\\x96\\x1c\\xe0\\x15\\xf1\\xd6\\x8c\\x18\\xf4\\xd2\\x07...</td>\n",
       "    </tr>\n",
       "    <tr>\n",
       "      <th>4</th>\n",
       "      <td>5.0</td>\n",
       "      <td>nodeB</td>\n",
       "      <td>0.029604</td>\n",
       "      <td>50</td>\n",
       "      <td>b'\\x96\\x1c\\xe0\\x15\\xf1\\xd6\\x8c\\x18\\xf4\\xd2\\x07...</td>\n",
       "    </tr>\n",
       "    <tr>\n",
       "      <th>5</th>\n",
       "      <td>6.0</td>\n",
       "      <td>nodeB</td>\n",
       "      <td>0.034946</td>\n",
       "      <td>50</td>\n",
       "      <td>b'\\x96\\x1c\\xe0\\x15\\xf1\\xd6\\x8c\\x18\\xf4\\xd2\\x07...</td>\n",
       "    </tr>\n",
       "    <tr>\n",
       "      <th>6</th>\n",
       "      <td>1.0</td>\n",
       "      <td>nodeC</td>\n",
       "      <td>0.037054</td>\n",
       "      <td>50</td>\n",
       "      <td>b'\\x9cl\\x97Dg4x#\\x05\\xdd\\xd2\\x9ai\\xfff!e&gt;`\\xeb...</td>\n",
       "    </tr>\n",
       "    <tr>\n",
       "      <th>7</th>\n",
       "      <td>1.0</td>\n",
       "      <td>nodeA</td>\n",
       "      <td>0.050817</td>\n",
       "      <td>50</td>\n",
       "      <td>b'\\x0bqvP\\x97\\xe2\\xf4;\\xf1\\x0f\\xd5^?=dwL\\xe6\\t...</td>\n",
       "    </tr>\n",
       "    <tr>\n",
       "      <th>8</th>\n",
       "      <td>7.0</td>\n",
       "      <td>nodeB</td>\n",
       "      <td>0.052955</td>\n",
       "      <td>50</td>\n",
       "      <td>b'\\x96\\x1c\\xe0\\x15\\xf1\\xd6\\x8c\\x18\\xf4\\xd2\\x07...</td>\n",
       "    </tr>\n",
       "    <tr>\n",
       "      <th>9</th>\n",
       "      <td>8.0</td>\n",
       "      <td>nodeB</td>\n",
       "      <td>0.057409</td>\n",
       "      <td>50</td>\n",
       "      <td>b'\\x96\\x1c\\xe0\\x15\\xf1\\xd6\\x8c\\x18\\xf4\\xd2\\x07...</td>\n",
       "    </tr>\n",
       "    <tr>\n",
       "      <th>10</th>\n",
       "      <td>9.0</td>\n",
       "      <td>nodeB</td>\n",
       "      <td>0.057415</td>\n",
       "      <td>50</td>\n",
       "      <td>b'\\x96\\x1c\\xe0\\x15\\xf1\\xd6\\x8c\\x18\\xf4\\xd2\\x07...</td>\n",
       "    </tr>\n",
       "    <tr>\n",
       "      <th>11</th>\n",
       "      <td>10.0</td>\n",
       "      <td>nodeB</td>\n",
       "      <td>0.058370</td>\n",
       "      <td>50</td>\n",
       "      <td>b'\\x96\\x1c\\xe0\\x15\\xf1\\xd6\\x8c\\x18\\xf4\\xd2\\x07...</td>\n",
       "    </tr>\n",
       "    <tr>\n",
       "      <th>12</th>\n",
       "      <td>11.0</td>\n",
       "      <td>nodeB</td>\n",
       "      <td>0.060294</td>\n",
       "      <td>50</td>\n",
       "      <td>b'\\x96\\x1c\\xe0\\x15\\xf1\\xd6\\x8c\\x18\\xf4\\xd2\\x07...</td>\n",
       "    </tr>\n",
       "    <tr>\n",
       "      <th>13</th>\n",
       "      <td>2.0</td>\n",
       "      <td>nodeC</td>\n",
       "      <td>0.062447</td>\n",
       "      <td>50</td>\n",
       "      <td>b'\\x9cl\\x97Dg4x#\\x05\\xdd\\xd2\\x9ai\\xfff!e&gt;`\\xeb...</td>\n",
       "    </tr>\n",
       "    <tr>\n",
       "      <th>14</th>\n",
       "      <td>3.0</td>\n",
       "      <td>nodeC</td>\n",
       "      <td>0.068000</td>\n",
       "      <td>50</td>\n",
       "      <td>b'\\x9cl\\x97Dg4x#\\x05\\xdd\\xd2\\x9ai\\xfff!e&gt;`\\xeb...</td>\n",
       "    </tr>\n",
       "    <tr>\n",
       "      <th>15</th>\n",
       "      <td>4.0</td>\n",
       "      <td>nodeC</td>\n",
       "      <td>0.071436</td>\n",
       "      <td>50</td>\n",
       "      <td>b'\\x9cl\\x97Dg4x#\\x05\\xdd\\xd2\\x9ai\\xfff!e&gt;`\\xeb...</td>\n",
       "    </tr>\n",
       "    <tr>\n",
       "      <th>16</th>\n",
       "      <td>2.0</td>\n",
       "      <td>nodeA</td>\n",
       "      <td>0.072476</td>\n",
       "      <td>50</td>\n",
       "      <td>b'\\x0bqvP\\x97\\xe3\\xf5:\\xf0\\x0e\\xd4_?=dwL\\xe6\\t...</td>\n",
       "    </tr>\n",
       "    <tr>\n",
       "      <th>17</th>\n",
       "      <td>3.0</td>\n",
       "      <td>nodeA</td>\n",
       "      <td>0.073615</td>\n",
       "      <td>50</td>\n",
       "      <td>b'\\x0bqvP\\x97\\xe3\\xf5:\\xf1\\x0f\\xd5^?=dwL\\xe6\\t...</td>\n",
       "    </tr>\n",
       "    <tr>\n",
       "      <th>18</th>\n",
       "      <td>12.0</td>\n",
       "      <td>nodeB</td>\n",
       "      <td>0.080395</td>\n",
       "      <td>50</td>\n",
       "      <td>b'\\x96\\x1c\\xe0\\x15\\xf1\\xd6\\x8c\\x18\\xf4\\xd2\\x07...</td>\n",
       "    </tr>\n",
       "    <tr>\n",
       "      <th>19</th>\n",
       "      <td>4.0</td>\n",
       "      <td>nodeA</td>\n",
       "      <td>0.093667</td>\n",
       "      <td>50</td>\n",
       "      <td>b'\\x0bqvP\\x97\\xe3\\xf5:\\xf0\\x0e\\xd4_?=dwL\\xe6\\t...</td>\n",
       "    </tr>\n",
       "    <tr>\n",
       "      <th>20</th>\n",
       "      <td>5.0</td>\n",
       "      <td>nodeC</td>\n",
       "      <td>0.095161</td>\n",
       "      <td>50</td>\n",
       "      <td>b'\\x9cl\\x97Dg4x#\\x05\\xdd\\xd2\\x9ai\\xfff!e&gt;`\\xeb...</td>\n",
       "    </tr>\n",
       "    <tr>\n",
       "      <th>21</th>\n",
       "      <td>5.0</td>\n",
       "      <td>nodeA</td>\n",
       "      <td>0.096361</td>\n",
       "      <td>50</td>\n",
       "      <td>b'\\x0bqvP\\x97\\xe3\\xf5;\\xf1\\x0f\\xd5^?=dwL\\xe6\\t...</td>\n",
       "    </tr>\n",
       "    <tr>\n",
       "      <th>22</th>\n",
       "      <td>13.0</td>\n",
       "      <td>nodeB</td>\n",
       "      <td>0.096945</td>\n",
       "      <td>50</td>\n",
       "      <td>b'\\x96\\x1c\\xe0\\x15\\xf1\\xd6\\x8c\\x18\\xf4\\xd2\\x07...</td>\n",
       "    </tr>\n",
       "    <tr>\n",
       "      <th>23</th>\n",
       "      <td>14.0</td>\n",
       "      <td>nodeB</td>\n",
       "      <td>0.098426</td>\n",
       "      <td>50</td>\n",
       "      <td>b'\\x96\\x1c\\xe0\\x15\\xf1\\xd6\\x8c\\x18\\xf4\\xd2\\x07...</td>\n",
       "    </tr>\n",
       "    <tr>\n",
       "      <th>24</th>\n",
       "      <td>6.0</td>\n",
       "      <td>nodeC</td>\n",
       "      <td>0.107104</td>\n",
       "      <td>50</td>\n",
       "      <td>b'\\x9cl\\x97Dg4x#\\x05\\xdd\\xd2\\x9ai\\xfff!e&gt;`\\xeb...</td>\n",
       "    </tr>\n",
       "    <tr>\n",
       "      <th>25</th>\n",
       "      <td>7.0</td>\n",
       "      <td>nodeC</td>\n",
       "      <td>0.107954</td>\n",
       "      <td>50</td>\n",
       "      <td>b'\\x9cl\\x97Dg4x#\\x05\\xdd\\xd2\\x9ai\\xfff!e&gt;`\\xeb...</td>\n",
       "    </tr>\n",
       "    <tr>\n",
       "      <th>26</th>\n",
       "      <td>6.0</td>\n",
       "      <td>nodeA</td>\n",
       "      <td>0.108971</td>\n",
       "      <td>50</td>\n",
       "      <td>b'\\x0bqvP\\x97\\xe3\\xf5:\\xf0\\x0e\\xd5^?=dwL\\xe6\\t...</td>\n",
       "    </tr>\n",
       "    <tr>\n",
       "      <th>27</th>\n",
       "      <td>8.0</td>\n",
       "      <td>nodeC</td>\n",
       "      <td>0.111533</td>\n",
       "      <td>50</td>\n",
       "      <td>b'\\x9cl\\x97Dg4x#\\x05\\xdd\\xd2\\x9ai\\xfff!e&gt;`\\xeb...</td>\n",
       "    </tr>\n",
       "    <tr>\n",
       "      <th>28</th>\n",
       "      <td>7.0</td>\n",
       "      <td>nodeA</td>\n",
       "      <td>0.111926</td>\n",
       "      <td>50</td>\n",
       "      <td>b'\\x0bqvP\\x97\\xe3\\xf5:\\xf0\\x0e\\xd5^?=dwL\\xe6\\t...</td>\n",
       "    </tr>\n",
       "    <tr>\n",
       "      <th>29</th>\n",
       "      <td>9.0</td>\n",
       "      <td>nodeC</td>\n",
       "      <td>0.112297</td>\n",
       "      <td>50</td>\n",
       "      <td>b'\\x9cl\\x97Dg4x#\\x05\\xdd\\xd2\\x9ai\\xfff!e&gt;`\\xeb...</td>\n",
       "    </tr>\n",
       "    <tr>\n",
       "      <th>30</th>\n",
       "      <td>8.0</td>\n",
       "      <td>nodeA</td>\n",
       "      <td>0.115064</td>\n",
       "      <td>50</td>\n",
       "      <td>b'\\x0bqvP\\x97\\xe3\\xf5:\\xf0\\x0e\\xd4^?=dwL\\xe6\\t...</td>\n",
       "    </tr>\n",
       "    <tr>\n",
       "      <th>31</th>\n",
       "      <td>10.0</td>\n",
       "      <td>nodeC</td>\n",
       "      <td>0.115570</td>\n",
       "      <td>50</td>\n",
       "      <td>b'\\x9cl\\x97Dg4x#\\x05\\xdd\\xd2\\x9ai\\xfff!e&gt;`\\xeb...</td>\n",
       "    </tr>\n",
       "    <tr>\n",
       "      <th>32</th>\n",
       "      <td>11.0</td>\n",
       "      <td>nodeC</td>\n",
       "      <td>0.125580</td>\n",
       "      <td>50</td>\n",
       "      <td>b'\\x9cl\\x97Dg4x#\\x05\\xdd\\xd2\\x9ai\\xfff!e&gt;`\\xeb...</td>\n",
       "    </tr>\n",
       "    <tr>\n",
       "      <th>33</th>\n",
       "      <td>9.0</td>\n",
       "      <td>nodeA</td>\n",
       "      <td>0.125605</td>\n",
       "      <td>50</td>\n",
       "      <td>b'\\x0bqvP\\x97\\xe3\\xf5:\\xf0\\x0e\\xd4_?=dwL\\xe6\\t...</td>\n",
       "    </tr>\n",
       "    <tr>\n",
       "      <th>34</th>\n",
       "      <td>12.0</td>\n",
       "      <td>nodeC</td>\n",
       "      <td>0.127656</td>\n",
       "      <td>50</td>\n",
       "      <td>b'\\x9cl\\x97Dg4x#\\x05\\xdd\\xd2\\x9ai\\xfff!e&gt;`\\xeb...</td>\n",
       "    </tr>\n",
       "    <tr>\n",
       "      <th>35</th>\n",
       "      <td>10.0</td>\n",
       "      <td>nodeA</td>\n",
       "      <td>0.129179</td>\n",
       "      <td>50</td>\n",
       "      <td>b'\\x0bqvP\\x97\\xe3\\xf5:\\xf0\\x0f\\xd5^?=dwL\\xe6\\t...</td>\n",
       "    </tr>\n",
       "    <tr>\n",
       "      <th>36</th>\n",
       "      <td>11.0</td>\n",
       "      <td>nodeA</td>\n",
       "      <td>0.134950</td>\n",
       "      <td>50</td>\n",
       "      <td>b'\\x0bqvP\\x97\\xe3\\xf5:\\xf1\\x0f\\xd5^?=dwL\\xe6\\t...</td>\n",
       "    </tr>\n",
       "    <tr>\n",
       "      <th>37</th>\n",
       "      <td>13.0</td>\n",
       "      <td>nodeC</td>\n",
       "      <td>0.139708</td>\n",
       "      <td>50</td>\n",
       "      <td>b'\\x9cl\\x97Dg4x#\\x05\\xdd\\xd2\\x9ai\\xfff!e&gt;`\\xeb...</td>\n",
       "    </tr>\n",
       "    <tr>\n",
       "      <th>38</th>\n",
       "      <td>14.0</td>\n",
       "      <td>nodeC</td>\n",
       "      <td>0.146359</td>\n",
       "      <td>50</td>\n",
       "      <td>b'\\x9cl\\x97Dg4x#\\x05\\xdd\\xd2\\x9ai\\xfff!e&gt;`\\xeb...</td>\n",
       "    </tr>\n",
       "    <tr>\n",
       "      <th>39</th>\n",
       "      <td>12.0</td>\n",
       "      <td>nodeA</td>\n",
       "      <td>0.152766</td>\n",
       "      <td>50</td>\n",
       "      <td>b'\\x0bqvP\\x97\\xe3\\xf5:\\xf0\\x0e\\xd4^?=dwL\\xe6\\t...</td>\n",
       "    </tr>\n",
       "  </tbody>\n",
       "</table>\n",
       "</div>"
      ],
      "text/plain": [
       "      id    src   abstime  size  \\\n",
       "0    1.0  nodeB  0.023552    50   \n",
       "1    2.0  nodeB  0.027376    50   \n",
       "2    3.0  nodeB  0.028528    50   \n",
       "3    4.0  nodeB  0.028947    50   \n",
       "4    5.0  nodeB  0.029604    50   \n",
       "5    6.0  nodeB  0.034946    50   \n",
       "6    1.0  nodeC  0.037054    50   \n",
       "7    1.0  nodeA  0.050817    50   \n",
       "8    7.0  nodeB  0.052955    50   \n",
       "9    8.0  nodeB  0.057409    50   \n",
       "10   9.0  nodeB  0.057415    50   \n",
       "11  10.0  nodeB  0.058370    50   \n",
       "12  11.0  nodeB  0.060294    50   \n",
       "13   2.0  nodeC  0.062447    50   \n",
       "14   3.0  nodeC  0.068000    50   \n",
       "15   4.0  nodeC  0.071436    50   \n",
       "16   2.0  nodeA  0.072476    50   \n",
       "17   3.0  nodeA  0.073615    50   \n",
       "18  12.0  nodeB  0.080395    50   \n",
       "19   4.0  nodeA  0.093667    50   \n",
       "20   5.0  nodeC  0.095161    50   \n",
       "21   5.0  nodeA  0.096361    50   \n",
       "22  13.0  nodeB  0.096945    50   \n",
       "23  14.0  nodeB  0.098426    50   \n",
       "24   6.0  nodeC  0.107104    50   \n",
       "25   7.0  nodeC  0.107954    50   \n",
       "26   6.0  nodeA  0.108971    50   \n",
       "27   8.0  nodeC  0.111533    50   \n",
       "28   7.0  nodeA  0.111926    50   \n",
       "29   9.0  nodeC  0.112297    50   \n",
       "30   8.0  nodeA  0.115064    50   \n",
       "31  10.0  nodeC  0.115570    50   \n",
       "32  11.0  nodeC  0.125580    50   \n",
       "33   9.0  nodeA  0.125605    50   \n",
       "34  12.0  nodeC  0.127656    50   \n",
       "35  10.0  nodeA  0.129179    50   \n",
       "36  11.0  nodeA  0.134950    50   \n",
       "37  13.0  nodeC  0.139708    50   \n",
       "38  14.0  nodeC  0.146359    50   \n",
       "39  12.0  nodeA  0.152766    50   \n",
       "\n",
       "                                              payload  \n",
       "0   b'\\x96\\x1c\\xe0\\x15\\xf1\\xd6\\x8c\\x18\\xf4\\xd2\\x07...  \n",
       "1   b'\\x96\\x1c\\xe0\\x15\\xf1\\xd6\\x8c\\x18\\xf4\\xd2\\x07...  \n",
       "2   b'\\x96\\x1c\\xe0\\x15\\xf1\\xd6\\x8c\\x18\\xf4\\xd2\\x07...  \n",
       "3   b'\\x96\\x1c\\xe0\\x15\\xf1\\xd6\\x8c\\x18\\xf4\\xd2\\x07...  \n",
       "4   b'\\x96\\x1c\\xe0\\x15\\xf1\\xd6\\x8c\\x18\\xf4\\xd2\\x07...  \n",
       "5   b'\\x96\\x1c\\xe0\\x15\\xf1\\xd6\\x8c\\x18\\xf4\\xd2\\x07...  \n",
       "6   b'\\x9cl\\x97Dg4x#\\x05\\xdd\\xd2\\x9ai\\xfff!e>`\\xeb...  \n",
       "7   b'\\x0bqvP\\x97\\xe2\\xf4;\\xf1\\x0f\\xd5^?=dwL\\xe6\\t...  \n",
       "8   b'\\x96\\x1c\\xe0\\x15\\xf1\\xd6\\x8c\\x18\\xf4\\xd2\\x07...  \n",
       "9   b'\\x96\\x1c\\xe0\\x15\\xf1\\xd6\\x8c\\x18\\xf4\\xd2\\x07...  \n",
       "10  b'\\x96\\x1c\\xe0\\x15\\xf1\\xd6\\x8c\\x18\\xf4\\xd2\\x07...  \n",
       "11  b'\\x96\\x1c\\xe0\\x15\\xf1\\xd6\\x8c\\x18\\xf4\\xd2\\x07...  \n",
       "12  b'\\x96\\x1c\\xe0\\x15\\xf1\\xd6\\x8c\\x18\\xf4\\xd2\\x07...  \n",
       "13  b'\\x9cl\\x97Dg4x#\\x05\\xdd\\xd2\\x9ai\\xfff!e>`\\xeb...  \n",
       "14  b'\\x9cl\\x97Dg4x#\\x05\\xdd\\xd2\\x9ai\\xfff!e>`\\xeb...  \n",
       "15  b'\\x9cl\\x97Dg4x#\\x05\\xdd\\xd2\\x9ai\\xfff!e>`\\xeb...  \n",
       "16  b'\\x0bqvP\\x97\\xe3\\xf5:\\xf0\\x0e\\xd4_?=dwL\\xe6\\t...  \n",
       "17  b'\\x0bqvP\\x97\\xe3\\xf5:\\xf1\\x0f\\xd5^?=dwL\\xe6\\t...  \n",
       "18  b'\\x96\\x1c\\xe0\\x15\\xf1\\xd6\\x8c\\x18\\xf4\\xd2\\x07...  \n",
       "19  b'\\x0bqvP\\x97\\xe3\\xf5:\\xf0\\x0e\\xd4_?=dwL\\xe6\\t...  \n",
       "20  b'\\x9cl\\x97Dg4x#\\x05\\xdd\\xd2\\x9ai\\xfff!e>`\\xeb...  \n",
       "21  b'\\x0bqvP\\x97\\xe3\\xf5;\\xf1\\x0f\\xd5^?=dwL\\xe6\\t...  \n",
       "22  b'\\x96\\x1c\\xe0\\x15\\xf1\\xd6\\x8c\\x18\\xf4\\xd2\\x07...  \n",
       "23  b'\\x96\\x1c\\xe0\\x15\\xf1\\xd6\\x8c\\x18\\xf4\\xd2\\x07...  \n",
       "24  b'\\x9cl\\x97Dg4x#\\x05\\xdd\\xd2\\x9ai\\xfff!e>`\\xeb...  \n",
       "25  b'\\x9cl\\x97Dg4x#\\x05\\xdd\\xd2\\x9ai\\xfff!e>`\\xeb...  \n",
       "26  b'\\x0bqvP\\x97\\xe3\\xf5:\\xf0\\x0e\\xd5^?=dwL\\xe6\\t...  \n",
       "27  b'\\x9cl\\x97Dg4x#\\x05\\xdd\\xd2\\x9ai\\xfff!e>`\\xeb...  \n",
       "28  b'\\x0bqvP\\x97\\xe3\\xf5:\\xf0\\x0e\\xd5^?=dwL\\xe6\\t...  \n",
       "29  b'\\x9cl\\x97Dg4x#\\x05\\xdd\\xd2\\x9ai\\xfff!e>`\\xeb...  \n",
       "30  b'\\x0bqvP\\x97\\xe3\\xf5:\\xf0\\x0e\\xd4^?=dwL\\xe6\\t...  \n",
       "31  b'\\x9cl\\x97Dg4x#\\x05\\xdd\\xd2\\x9ai\\xfff!e>`\\xeb...  \n",
       "32  b'\\x9cl\\x97Dg4x#\\x05\\xdd\\xd2\\x9ai\\xfff!e>`\\xeb...  \n",
       "33  b'\\x0bqvP\\x97\\xe3\\xf5:\\xf0\\x0e\\xd4_?=dwL\\xe6\\t...  \n",
       "34  b'\\x9cl\\x97Dg4x#\\x05\\xdd\\xd2\\x9ai\\xfff!e>`\\xeb...  \n",
       "35  b'\\x0bqvP\\x97\\xe3\\xf5:\\xf0\\x0f\\xd5^?=dwL\\xe6\\t...  \n",
       "36  b'\\x0bqvP\\x97\\xe3\\xf5:\\xf1\\x0f\\xd5^?=dwL\\xe6\\t...  \n",
       "37  b'\\x9cl\\x97Dg4x#\\x05\\xdd\\xd2\\x9ai\\xfff!e>`\\xeb...  \n",
       "38  b'\\x9cl\\x97Dg4x#\\x05\\xdd\\xd2\\x9ai\\xfff!e>`\\xeb...  \n",
       "39  b'\\x0bqvP\\x97\\xe3\\xf5:\\xf0\\x0e\\xd4^?=dwL\\xe6\\t...  "
      ]
     },
     "execution_count": 130,
     "metadata": {},
     "output_type": "execute_result"
    }
   ],
   "source": [
    "# run simulation and show log\n",
    "# --- IMPLEMENTATION GOES HERE ---\n",
    "env.run(until=10)\n",
    "df = pd.DataFrame(server.log, columns=['id', 'src', 'abstime', 'size', 'payload'])\n",
    "df.head(n=40)\n",
    "# --------------------------------"
   ]
  },
  {
   "cell_type": "markdown",
   "metadata": {},
   "source": [
    "---\n",
    "\n",
    "**Apartado C (0.25 puntos)** Haced un histograma que muestre el volumen del tráfico que el servidor ha recibido de cada nodo. Haced la partición del rango de tiempo en 10 intervalos.\n",
    "\n",
    "- Podéis utilizar módulos para dibujar gráficas como `matplotlib` y `seaborn`."
   ]
  },
  {
   "cell_type": "code",
   "execution_count": 131,
   "metadata": {
    "scrolled": true
   },
   "outputs": [
    {
     "data": {
      "image/png": "[encoded data removed]",
      "text/plain": [
       "<Figure size 1440x576 with 1 Axes>"
      ]
     },
     "metadata": {},
     "output_type": "display_data"
    },
    {
     "name": "stdout",
     "output_type": "stream",
     "text": [
      "Decoded message number 3.0 b'\\x01\\x01\\x01\\x01\\x01\\x01\\x01\\x01\\x00\\x00\\x00\\x00\\x00\\x00\\x00\\x00\\x00\\x00\\x00\\x00\\x00\\x00\\x00\\x00\\x00\\x00\\x00\\x00\\x00\\x00\\x00\\x00\\x00\\x00\\x00\\x00\\x00\\x00\\x00\\x00\\x00\\x00\\x00\\x00\\x00\\x00\\x00\\x00\\x00\\x00'\n"
     ]
    }
   ],
   "source": [
    "# --- IMPLEMENTATION GOES HERE ---\n",
    "import seaborn as sns\n",
    "import matplotlib.pyplot as plt\n",
    "sns.set_theme(style=\"darkgrid\")\n",
    "df['intervals']=pd.cut(df.abstime,10)\n",
    "#df.head(40)\n",
    "plt.figure(figsize=(20, 8))\n",
    "ax = sns.countplot(x=\"intervals\", hue=\"src\", data=df)\n",
    "ax.set(xlabel='Time Interval Sec', ylabel='Pkt count')\n",
    "plt.show()\n",
    "\n",
    "def decode(id):\n",
    "    a=df.loc[df['id'] == id]\n",
    "    m=[]\n",
    "    for i in a['payload']:\n",
    "        m.append(i)\n",
    "    return bytes([b0 ^ b1 ^ b2 for b0, b1, b2 in zip(m[0], m[1], m[2])])\n",
    "\n",
    "print(f\"Decoded message number 3.0 {decode(3.0)}\")\n",
    "# --------------------------------"
   ]
  },
  {
   "cell_type": "markdown",
   "metadata": {},
   "source": [
    "### Ejercicio 4 (1 punto)\n",
    "\n",
    "En la simulación del apartado anterior no hay ningún método de sincronización entre los nodos. En este ejercicio se extenderá la clase `DCNode` a una clase `DCNodeSync` la cual utiliza el reloj del entorno de SimPy para la sincronización (`env.now`): en cada periodo, todos los nodos de la red envían un mensaje al servidor central.\n",
    "\n",
    "Supondremos que la red utiliza un *scheduling* sencillo para decidir cual de los nodos envía datos en cada periodo. El periodo se define en la variable global *PERIOD*. Los nodos envían mensajes cuando el tiempo transcurrido es un múltiple de *PERIOD*: si no tienen datos para enviar, envían un mensaje dummy. En cambio, si tienen datos para enviar, solo uno de los nodos puede enviar datos durante ese periodo. Para asegurar que no hay colisiones, supondremos que el periodo de envío de cada nodo tiene un shift en el periodo. Por ejemplo, si tenemos una red de *N* nodos que denotamos $c_i$, el nodo $c_i$ envía mensajes cuando *id  mod n* es *i*, donde *id* es un contador que identifica el mensaje dentro de la secuencia de mensajes enviados. Si tenemos tres nodos, el primer nodo envía datos en los periodos $0, 3, 6, ...$, el segundo nodo en los periodos $1, 4, 7, ...$ y el tercer nodo en los periodos $2, 5, 8, ...$\n",
    "\n",
    "Como antes, todos los nodos envían un documento y a cada nodo se le asocia un shift del periodo para enviar datos. Además, cuando nadie envíe un mensaje, todos los nodos envían un dummy (mensaje donde todo el payload es padding).\n",
    "\n",
    "\n",
    "**Apartado A**. Implementa los siguientes métodos de la clase `DCNodeSync`:\n",
    "\n",
    "- `__init__`: el constructor de la clase. Necesitaréis crear los atributos `period`, `period_id` y `last_id`, para determinar en qué periodo el nodo puede enviar datos.\n",
    "- `gen_dummy`: este método devuelve un paquete con un payload vacío. Recordad que el payload tiene que haber sido codificado con los secretos del nodo.\n",
    "- `next_period`: devuelve el tiempo del siguiente periodo.\n",
    "- `run`: ejecuta el proceso de SimPy. Aquí tenéis que implementar la lógica principal del scheduling: qué se hace cuando se recibe un mensaje, el tiempo que el nodo tiene que esperar hasta el siguiente periodo y decidir si envía un dummy o un paquete de datos.\n",
    "\n",
    "Además, tened en cuenta las siguientes indicaciones:\n",
    "\n",
    "- Podéis utilizar el operador `|` para combinar la activación de múltiples eventos de SimPy en una operación OR.\n",
    "- Utilizad `Environment.timeout` para crear retardos en la comunicación."
   ]
  },
  {
   "cell_type": "code",
   "execution_count": 132,
   "metadata": {},
   "outputs": [],
   "source": [
    "from math import ceil\n",
    "\n",
    "\n",
    "class DCNodeSync(DCNode):\n",
    "    def __init__(self, *args, **kwargs):\n",
    "        \"\"\"\n",
    "        Initializes the attributes of the class.\n",
    "\n",
    "        :param period: the period in which the DC's communicate.\n",
    "        :param period_id: period in which this specific node sends data.\n",
    "        :param last_id: counter that keeps track of the number of periods.\n",
    "        :param n: number of DC nodes in the network.\n",
    "        :param initial_delay: set the delay for the node\n",
    "        :param msglen: set the size of the packets\n",
    "        :param document: set the document to be sent by the node (bytes)\n",
    "        \"\"\"\n",
    "        # --- IMPLEMENTATION GOES HERE ---\n",
    "        self.period = kwargs['period']\n",
    "        self.period_id = kwargs['period_id']\n",
    "        self.last_id = 0\n",
    "        self.n = kwargs['n']\n",
    "        self.initial_delay=kwargs['initial_delay']\n",
    "        self.store = simpy.Store(kwargs['env'])\n",
    "        self.env = kwargs['env']\n",
    "        self.out = None\n",
    "        self.name = kwargs['name']\n",
    "        self.msglen = kwargs['msglen']\n",
    "        self.finish = float(\"inf\")\n",
    "        self.packets_sent=0\n",
    "        self.total_packets = kwargs['total_packets']\n",
    "        self.flow_id=0\n",
    "        self.sent_size = 0\n",
    "        self.action = env.process(self.run())\n",
    "        self.document_sent =False\n",
    "        self.document=kwargs['document']\n",
    "        self.doc_part =0\n",
    "        self.doc_total=len(self.document)/self.msglen\n",
    "        # --------------------------------\n",
    "\n",
    "    def gen_dummy(self):\n",
    "        # --- IMPLEMENTATION GOES HERE ---\n",
    "        Empty = bytes(self.msglen)\n",
    "        return self.encode(Empty)\n",
    "        # --------------------------------\n",
    "\n",
    "    @property\n",
    "    def next_period(self):\n",
    "        # --- IMPLEMENTATION GOES HERE ---\n",
    "        return self.last_id+1 * self.period\n",
    "        # --------------------------------   \n",
    "    \n",
    "    def run(self):\n",
    "        # --- IMPLEMENTATION GOES HERE ---\n",
    "        # we set a threshold to sync all nodes 0.1\n",
    "        yield self.env.timeout(0.1)\n",
    "        while self.env.now < self.finish:\n",
    "            # wait for the next transmission\n",
    "            yield self.env.timeout(self.period)\n",
    "            \n",
    "            self.packets_sent += 1\n",
    "            size = self.msglen\n",
    "            self.sent_size += size\n",
    "            if self.last_id % self.n == self.period_id and not self.document_sent and self.last_id*self.period> self.initial_delay:\n",
    "                start=self.doc_part*self.msglen\n",
    "                self.doc_part+=1\n",
    "                end=self.doc_part*self.msglen\n",
    "                payload=self.encode(self.document[start:end])\n",
    "                #print(f\"part {self.doc_part} => {self.document[start:end]}\")\n",
    "                #print(\"real\")\n",
    "                if self.doc_part>self.doc_total:\n",
    "                      self.document_sent=True\n",
    "            else:\n",
    "                #print(\"dummy\")\n",
    "                payload=self.gen_dummy()\n",
    "            #print(payload)\n",
    "            self.last_id+=1\n",
    "            \n",
    "            # instantiate a packet and send it\n",
    "            p = Packet(self.env.now, size, self.packets_sent, payload,\n",
    "                       src=self.name, flow_id=self.flow_id)\n",
    "\n",
    "            if self.packets_sent <= self.total_packets:\n",
    "                self.out.put(p)\n",
    "        # --------------------------------\n",
    "\n"
   ]
  },
  {
   "cell_type": "markdown",
   "metadata": {},
   "source": [
    "**Apartado B (0.25 puntos)** Crea instancias de los objetos de la simulación y ejecutala. \n",
    "Asegurate de que las instancias de PacketGenerator tienen un retardo inicial (el atributo `initial_delay`)."
   ]
  },
  {
   "cell_type": "code",
   "execution_count": 133,
   "metadata": {},
   "outputs": [],
   "source": [
    "env = simpy.Environment()  # Create the SimPy environment\n",
    "\n",
    "PERIOD = 0.1  # period of the synchronization\n",
    "# here you can choose the size of the packets\n",
    "MSGLEN=5\n"
   ]
  },
  {
   "cell_type": "code",
   "execution_count": 134,
   "metadata": {},
   "outputs": [],
   "source": [
    "# Instantiate the server\n",
    "# --- IMPLEMENTATION GOES HERE ---\n",
    "server = PacketSink(env, rec_arrivals=True, absolute_arrivals=True)\n",
    "# --------------------------------"
   ]
  },
  {
   "cell_type": "code",
   "execution_count": 135,
   "metadata": {},
   "outputs": [],
   "source": [
    "# Instantiate the nodes and the packet generator with delays\n",
    "# --- IMPLEMENTATION GOES HERE ---\n",
    "message1=b'\\x44\\x61\\x6e\\x69\\x65\\x6c\\x20\\x53\\x61\\x6e\\x63\\x68\\x65\\x7a\\x20\\x69\\x73\\x20\\x74\\x68\\x65\\x20\\x54\\x4f\\x50\\x4f'\n",
    "message2=b'mensaje de prueba amapolas de colores para todos el mensaje es mas largo'\n",
    "message3=b'Sistema de comunicacion DC en perfecto funcionamiento, este es mi documento supersecreto para que no lo vea la nsa'\n",
    "\n",
    "nodeA=DCNodeSync(env=env,name=\"nodeA\",msglen=MSGLEN,period=0.1,period_id=0,n=3,total_packets=100,document=message1,initial_delay=0.2)\n",
    "nodeB=DCNodeSync(env=env,name=\"nodeB\",msglen=MSGLEN,period=0.1,period_id=1,n=3,total_packets=100,document=message2,initial_delay=0.5)\n",
    "nodeC=DCNodeSync(env=env,name=\"nodeC\",msglen=MSGLEN,period=0.1,period_id=2,n=3,total_packets=100,document=message3,initial_delay=0.4)\n",
    "\n",
    "# --------------------------------"
   ]
  },
  {
   "cell_type": "code",
   "execution_count": 136,
   "metadata": {},
   "outputs": [],
   "source": [
    "# Assign the secrets to the nodes\n",
    "# --- IMPLEMENTATION GOES HERE ---\n",
    "import os\n",
    "# genera un secreto para cada par de criptógrafos\n",
    "def calc_secret(msglen):\n",
    "    return os.urandom(msglen)\n",
    "\n",
    "AB_secret=calc_secret(MSGLEN)\n",
    "AC_secret=calc_secret(MSGLEN)\n",
    "BC_secret=calc_secret(MSGLEN)\n",
    "#setting nodeA secrets\n",
    "nodeA.set_secrets([AB_secret,AC_secret])\n",
    "#setting nodeB secrets\n",
    "nodeB.set_secrets([AC_secret,BC_secret])\n",
    "#setting nodeC secrets\n",
    "nodeC.set_secrets([AB_secret,BC_secret])\n",
    "# --------------------------------"
   ]
  },
  {
   "cell_type": "code",
   "execution_count": 137,
   "metadata": {},
   "outputs": [],
   "source": [
    "# Instantiate the packet generator with delays\n",
    "# --- IMPLEMENTATION GOES HERE ---\n",
    "#implemented above\n",
    "# --------------------------------"
   ]
  },
  {
   "cell_type": "code",
   "execution_count": 138,
   "metadata": {},
   "outputs": [],
   "source": [
    "# Wire packet generators and sink together\n",
    "# --- IMPLEMENTATION GOES HERE ---\n",
    "nodeA.out=server\n",
    "nodeB.out=server\n",
    "nodeC.out=server\n",
    "# --------------------------------"
   ]
  },
  {
   "cell_type": "code",
   "execution_count": 139,
   "metadata": {
    "scrolled": false
   },
   "outputs": [
    {
     "data": {
      "text/html": [
       "<div>\n",
       "<style scoped>\n",
       "    .dataframe tbody tr th:only-of-type {\n",
       "        vertical-align: middle;\n",
       "    }\n",
       "\n",
       "    .dataframe tbody tr th {\n",
       "        vertical-align: top;\n",
       "    }\n",
       "\n",
       "    .dataframe thead th {\n",
       "        text-align: right;\n",
       "    }\n",
       "</style>\n",
       "<table border=\"1\" class=\"dataframe\">\n",
       "  <thead>\n",
       "    <tr style=\"text-align: right;\">\n",
       "      <th></th>\n",
       "      <th>id</th>\n",
       "      <th>src</th>\n",
       "      <th>abstime</th>\n",
       "      <th>size</th>\n",
       "      <th>payload</th>\n",
       "    </tr>\n",
       "  </thead>\n",
       "  <tbody>\n",
       "    <tr>\n",
       "      <th>0</th>\n",
       "      <td>1</td>\n",
       "      <td>nodeA</td>\n",
       "      <td>0.2</td>\n",
       "      <td>5</td>\n",
       "      <td>b'\\xe2\\xd6F\\x82\\x1b'</td>\n",
       "    </tr>\n",
       "    <tr>\n",
       "      <th>1</th>\n",
       "      <td>1</td>\n",
       "      <td>nodeB</td>\n",
       "      <td>0.2</td>\n",
       "      <td>5</td>\n",
       "      <td>b'\\xe8.\\x9b&lt;\\xd9'</td>\n",
       "    </tr>\n",
       "    <tr>\n",
       "      <th>2</th>\n",
       "      <td>1</td>\n",
       "      <td>nodeC</td>\n",
       "      <td>0.2</td>\n",
       "      <td>5</td>\n",
       "      <td>b'\\n\\xf8\\xdd\\xbe\\xc2'</td>\n",
       "    </tr>\n",
       "    <tr>\n",
       "      <th>3</th>\n",
       "      <td>2</td>\n",
       "      <td>nodeA</td>\n",
       "      <td>0.3</td>\n",
       "      <td>5</td>\n",
       "      <td>b'\\xe2\\xd6F\\x82\\x1b'</td>\n",
       "    </tr>\n",
       "    <tr>\n",
       "      <th>4</th>\n",
       "      <td>2</td>\n",
       "      <td>nodeB</td>\n",
       "      <td>0.3</td>\n",
       "      <td>5</td>\n",
       "      <td>b'\\xe8.\\x9b&lt;\\xd9'</td>\n",
       "    </tr>\n",
       "    <tr>\n",
       "      <th>5</th>\n",
       "      <td>2</td>\n",
       "      <td>nodeC</td>\n",
       "      <td>0.3</td>\n",
       "      <td>5</td>\n",
       "      <td>b'\\n\\xf8\\xdd\\xbe\\xc2'</td>\n",
       "    </tr>\n",
       "    <tr>\n",
       "      <th>6</th>\n",
       "      <td>3</td>\n",
       "      <td>nodeA</td>\n",
       "      <td>0.4</td>\n",
       "      <td>5</td>\n",
       "      <td>b'\\xe2\\xd6F\\x82\\x1b'</td>\n",
       "    </tr>\n",
       "    <tr>\n",
       "      <th>7</th>\n",
       "      <td>3</td>\n",
       "      <td>nodeB</td>\n",
       "      <td>0.4</td>\n",
       "      <td>5</td>\n",
       "      <td>b'\\xe8.\\x9b&lt;\\xd9'</td>\n",
       "    </tr>\n",
       "    <tr>\n",
       "      <th>8</th>\n",
       "      <td>3</td>\n",
       "      <td>nodeC</td>\n",
       "      <td>0.4</td>\n",
       "      <td>5</td>\n",
       "      <td>b'\\n\\xf8\\xdd\\xbe\\xc2'</td>\n",
       "    </tr>\n",
       "    <tr>\n",
       "      <th>9</th>\n",
       "      <td>4</td>\n",
       "      <td>nodeA</td>\n",
       "      <td>0.5</td>\n",
       "      <td>5</td>\n",
       "      <td>b'\\xa6\\xb7(\\xeb~'</td>\n",
       "    </tr>\n",
       "    <tr>\n",
       "      <th>10</th>\n",
       "      <td>4</td>\n",
       "      <td>nodeB</td>\n",
       "      <td>0.5</td>\n",
       "      <td>5</td>\n",
       "      <td>b'\\xe8.\\x9b&lt;\\xd9'</td>\n",
       "    </tr>\n",
       "    <tr>\n",
       "      <th>11</th>\n",
       "      <td>4</td>\n",
       "      <td>nodeC</td>\n",
       "      <td>0.5</td>\n",
       "      <td>5</td>\n",
       "      <td>b'\\n\\xf8\\xdd\\xbe\\xc2'</td>\n",
       "    </tr>\n",
       "    <tr>\n",
       "      <th>12</th>\n",
       "      <td>5</td>\n",
       "      <td>nodeA</td>\n",
       "      <td>0.6</td>\n",
       "      <td>5</td>\n",
       "      <td>b'\\xe2\\xd6F\\x82\\x1b'</td>\n",
       "    </tr>\n",
       "    <tr>\n",
       "      <th>13</th>\n",
       "      <td>5</td>\n",
       "      <td>nodeB</td>\n",
       "      <td>0.6</td>\n",
       "      <td>5</td>\n",
       "      <td>b'\\xe8.\\x9b&lt;\\xd9'</td>\n",
       "    </tr>\n",
       "    <tr>\n",
       "      <th>14</th>\n",
       "      <td>5</td>\n",
       "      <td>nodeC</td>\n",
       "      <td>0.6</td>\n",
       "      <td>5</td>\n",
       "      <td>b'\\n\\xf8\\xdd\\xbe\\xc2'</td>\n",
       "    </tr>\n",
       "    <tr>\n",
       "      <th>15</th>\n",
       "      <td>6</td>\n",
       "      <td>nodeA</td>\n",
       "      <td>0.7</td>\n",
       "      <td>5</td>\n",
       "      <td>b'\\xe2\\xd6F\\x82\\x1b'</td>\n",
       "    </tr>\n",
       "    <tr>\n",
       "      <th>16</th>\n",
       "      <td>6</td>\n",
       "      <td>nodeB</td>\n",
       "      <td>0.7</td>\n",
       "      <td>5</td>\n",
       "      <td>b'\\xe8.\\x9b&lt;\\xd9'</td>\n",
       "    </tr>\n",
       "    <tr>\n",
       "      <th>17</th>\n",
       "      <td>6</td>\n",
       "      <td>nodeC</td>\n",
       "      <td>0.7</td>\n",
       "      <td>5</td>\n",
       "      <td>b'Y\\x91\\xae\\xca\\xa7'</td>\n",
       "    </tr>\n",
       "    <tr>\n",
       "      <th>18</th>\n",
       "      <td>7</td>\n",
       "      <td>nodeA</td>\n",
       "      <td>0.8</td>\n",
       "      <td>5</td>\n",
       "      <td>b'\\x8e\\xf6\\x15\\xe3u'</td>\n",
       "    </tr>\n",
       "    <tr>\n",
       "      <th>19</th>\n",
       "      <td>7</td>\n",
       "      <td>nodeB</td>\n",
       "      <td>0.8</td>\n",
       "      <td>5</td>\n",
       "      <td>b'\\xe8.\\x9b&lt;\\xd9'</td>\n",
       "    </tr>\n",
       "    <tr>\n",
       "      <th>20</th>\n",
       "      <td>7</td>\n",
       "      <td>nodeC</td>\n",
       "      <td>0.8</td>\n",
       "      <td>5</td>\n",
       "      <td>b'\\n\\xf8\\xdd\\xbe\\xc2'</td>\n",
       "    </tr>\n",
       "    <tr>\n",
       "      <th>21</th>\n",
       "      <td>8</td>\n",
       "      <td>nodeA</td>\n",
       "      <td>0.9</td>\n",
       "      <td>5</td>\n",
       "      <td>b'\\xe2\\xd6F\\x82\\x1b'</td>\n",
       "    </tr>\n",
       "    <tr>\n",
       "      <th>22</th>\n",
       "      <td>8</td>\n",
       "      <td>nodeB</td>\n",
       "      <td>0.9</td>\n",
       "      <td>5</td>\n",
       "      <td>b'\\x85K\\xf5O\\xb8'</td>\n",
       "    </tr>\n",
       "    <tr>\n",
       "      <th>23</th>\n",
       "      <td>8</td>\n",
       "      <td>nodeC</td>\n",
       "      <td>0.9</td>\n",
       "      <td>5</td>\n",
       "      <td>b'\\n\\xf8\\xdd\\xbe\\xc2'</td>\n",
       "    </tr>\n",
       "    <tr>\n",
       "      <th>24</th>\n",
       "      <td>9</td>\n",
       "      <td>nodeA</td>\n",
       "      <td>1.0</td>\n",
       "      <td>5</td>\n",
       "      <td>b'\\xe2\\xd6F\\x82\\x1b'</td>\n",
       "    </tr>\n",
       "    <tr>\n",
       "      <th>25</th>\n",
       "      <td>9</td>\n",
       "      <td>nodeB</td>\n",
       "      <td>1.0</td>\n",
       "      <td>5</td>\n",
       "      <td>b'\\xe8.\\x9b&lt;\\xd9'</td>\n",
       "    </tr>\n",
       "    <tr>\n",
       "      <th>26</th>\n",
       "      <td>9</td>\n",
       "      <td>nodeC</td>\n",
       "      <td>1.0</td>\n",
       "      <td>5</td>\n",
       "      <td>b'g\\x99\\xfd\\xda\\xa7'</td>\n",
       "    </tr>\n",
       "    <tr>\n",
       "      <th>27</th>\n",
       "      <td>10</td>\n",
       "      <td>nodeA</td>\n",
       "      <td>1.1</td>\n",
       "      <td>5</td>\n",
       "      <td>b'\\x81\\xbe#\\xf8;'</td>\n",
       "    </tr>\n",
       "    <tr>\n",
       "      <th>28</th>\n",
       "      <td>10</td>\n",
       "      <td>nodeB</td>\n",
       "      <td>1.1</td>\n",
       "      <td>5</td>\n",
       "      <td>b'\\xe8.\\x9b&lt;\\xd9'</td>\n",
       "    </tr>\n",
       "    <tr>\n",
       "      <th>29</th>\n",
       "      <td>10</td>\n",
       "      <td>nodeC</td>\n",
       "      <td>1.1</td>\n",
       "      <td>5</td>\n",
       "      <td>b'\\n\\xf8\\xdd\\xbe\\xc2'</td>\n",
       "    </tr>\n",
       "    <tr>\n",
       "      <th>30</th>\n",
       "      <td>11</td>\n",
       "      <td>nodeA</td>\n",
       "      <td>1.2</td>\n",
       "      <td>5</td>\n",
       "      <td>b'\\xe2\\xd6F\\x82\\x1b'</td>\n",
       "    </tr>\n",
       "    <tr>\n",
       "      <th>31</th>\n",
       "      <td>11</td>\n",
       "      <td>nodeB</td>\n",
       "      <td>1.2</td>\n",
       "      <td>5</td>\n",
       "      <td>b'\\x82K\\xbbX\\xbc'</td>\n",
       "    </tr>\n",
       "    <tr>\n",
       "      <th>32</th>\n",
       "      <td>11</td>\n",
       "      <td>nodeC</td>\n",
       "      <td>1.2</td>\n",
       "      <td>5</td>\n",
       "      <td>b'\\n\\xf8\\xdd\\xbe\\xc2'</td>\n",
       "    </tr>\n",
       "    <tr>\n",
       "      <th>33</th>\n",
       "      <td>12</td>\n",
       "      <td>nodeA</td>\n",
       "      <td>1.3</td>\n",
       "      <td>5</td>\n",
       "      <td>b'\\xe2\\xd6F\\x82\\x1b'</td>\n",
       "    </tr>\n",
       "    <tr>\n",
       "      <th>34</th>\n",
       "      <td>12</td>\n",
       "      <td>nodeB</td>\n",
       "      <td>1.3</td>\n",
       "      <td>5</td>\n",
       "      <td>b'\\xe8.\\x9b&lt;\\xd9'</td>\n",
       "    </tr>\n",
       "    <tr>\n",
       "      <th>35</th>\n",
       "      <td>12</td>\n",
       "      <td>nodeC</td>\n",
       "      <td>1.3</td>\n",
       "      <td>5</td>\n",
       "      <td>b'*\\x9b\\xb2\\xd3\\xb7'</td>\n",
       "    </tr>\n",
       "    <tr>\n",
       "      <th>36</th>\n",
       "      <td>13</td>\n",
       "      <td>nodeA</td>\n",
       "      <td>1.4</td>\n",
       "      <td>5</td>\n",
       "      <td>b'\\x8b\\xa5f\\xf6s'</td>\n",
       "    </tr>\n",
       "    <tr>\n",
       "      <th>37</th>\n",
       "      <td>13</td>\n",
       "      <td>nodeB</td>\n",
       "      <td>1.4</td>\n",
       "      <td>5</td>\n",
       "      <td>b'\\xe8.\\x9b&lt;\\xd9'</td>\n",
       "    </tr>\n",
       "    <tr>\n",
       "      <th>38</th>\n",
       "      <td>13</td>\n",
       "      <td>nodeC</td>\n",
       "      <td>1.4</td>\n",
       "      <td>5</td>\n",
       "      <td>b'\\n\\xf8\\xdd\\xbe\\xc2'</td>\n",
       "    </tr>\n",
       "    <tr>\n",
       "      <th>39</th>\n",
       "      <td>14</td>\n",
       "      <td>nodeA</td>\n",
       "      <td>1.5</td>\n",
       "      <td>5</td>\n",
       "      <td>b'\\xe2\\xd6F\\x82\\x1b'</td>\n",
       "    </tr>\n",
       "  </tbody>\n",
       "</table>\n",
       "</div>"
      ],
      "text/plain": [
       "    id    src  abstime  size                payload\n",
       "0    1  nodeA      0.2     5   b'\\xe2\\xd6F\\x82\\x1b'\n",
       "1    1  nodeB      0.2     5      b'\\xe8.\\x9b<\\xd9'\n",
       "2    1  nodeC      0.2     5  b'\\n\\xf8\\xdd\\xbe\\xc2'\n",
       "3    2  nodeA      0.3     5   b'\\xe2\\xd6F\\x82\\x1b'\n",
       "4    2  nodeB      0.3     5      b'\\xe8.\\x9b<\\xd9'\n",
       "5    2  nodeC      0.3     5  b'\\n\\xf8\\xdd\\xbe\\xc2'\n",
       "6    3  nodeA      0.4     5   b'\\xe2\\xd6F\\x82\\x1b'\n",
       "7    3  nodeB      0.4     5      b'\\xe8.\\x9b<\\xd9'\n",
       "8    3  nodeC      0.4     5  b'\\n\\xf8\\xdd\\xbe\\xc2'\n",
       "9    4  nodeA      0.5     5      b'\\xa6\\xb7(\\xeb~'\n",
       "10   4  nodeB      0.5     5      b'\\xe8.\\x9b<\\xd9'\n",
       "11   4  nodeC      0.5     5  b'\\n\\xf8\\xdd\\xbe\\xc2'\n",
       "12   5  nodeA      0.6     5   b'\\xe2\\xd6F\\x82\\x1b'\n",
       "13   5  nodeB      0.6     5      b'\\xe8.\\x9b<\\xd9'\n",
       "14   5  nodeC      0.6     5  b'\\n\\xf8\\xdd\\xbe\\xc2'\n",
       "15   6  nodeA      0.7     5   b'\\xe2\\xd6F\\x82\\x1b'\n",
       "16   6  nodeB      0.7     5      b'\\xe8.\\x9b<\\xd9'\n",
       "17   6  nodeC      0.7     5   b'Y\\x91\\xae\\xca\\xa7'\n",
       "18   7  nodeA      0.8     5   b'\\x8e\\xf6\\x15\\xe3u'\n",
       "19   7  nodeB      0.8     5      b'\\xe8.\\x9b<\\xd9'\n",
       "20   7  nodeC      0.8     5  b'\\n\\xf8\\xdd\\xbe\\xc2'\n",
       "21   8  nodeA      0.9     5   b'\\xe2\\xd6F\\x82\\x1b'\n",
       "22   8  nodeB      0.9     5      b'\\x85K\\xf5O\\xb8'\n",
       "23   8  nodeC      0.9     5  b'\\n\\xf8\\xdd\\xbe\\xc2'\n",
       "24   9  nodeA      1.0     5   b'\\xe2\\xd6F\\x82\\x1b'\n",
       "25   9  nodeB      1.0     5      b'\\xe8.\\x9b<\\xd9'\n",
       "26   9  nodeC      1.0     5   b'g\\x99\\xfd\\xda\\xa7'\n",
       "27  10  nodeA      1.1     5      b'\\x81\\xbe#\\xf8;'\n",
       "28  10  nodeB      1.1     5      b'\\xe8.\\x9b<\\xd9'\n",
       "29  10  nodeC      1.1     5  b'\\n\\xf8\\xdd\\xbe\\xc2'\n",
       "30  11  nodeA      1.2     5   b'\\xe2\\xd6F\\x82\\x1b'\n",
       "31  11  nodeB      1.2     5      b'\\x82K\\xbbX\\xbc'\n",
       "32  11  nodeC      1.2     5  b'\\n\\xf8\\xdd\\xbe\\xc2'\n",
       "33  12  nodeA      1.3     5   b'\\xe2\\xd6F\\x82\\x1b'\n",
       "34  12  nodeB      1.3     5      b'\\xe8.\\x9b<\\xd9'\n",
       "35  12  nodeC      1.3     5   b'*\\x9b\\xb2\\xd3\\xb7'\n",
       "36  13  nodeA      1.4     5      b'\\x8b\\xa5f\\xf6s'\n",
       "37  13  nodeB      1.4     5      b'\\xe8.\\x9b<\\xd9'\n",
       "38  13  nodeC      1.4     5  b'\\n\\xf8\\xdd\\xbe\\xc2'\n",
       "39  14  nodeA      1.5     5   b'\\xe2\\xd6F\\x82\\x1b'"
      ]
     },
     "execution_count": 139,
     "metadata": {},
     "output_type": "execute_result"
    }
   ],
   "source": [
    "# run simulation and show log\n",
    "# --- IMPLEMENTATION GOES HERE ---\n",
    "env.run(until=20)\n",
    "df = pd.DataFrame(server.log, columns=['id', 'src', 'abstime', 'size', 'payload'])\n",
    "df.head(n=40)\n",
    "# --------------------------------"
   ]
  },
  {
   "cell_type": "markdown",
   "metadata": {},
   "source": [
    "---\n",
    "\n",
    "**Apartado C (0.25 puntos)** Haced un histograma que muestre el volumen del tráfico que el servidor ha recibido de cada nodo. Haced la partición del rango de tiempo en 10 intervalos."
   ]
  },
  {
   "cell_type": "code",
   "execution_count": 140,
   "metadata": {
    "scrolled": false
   },
   "outputs": [
    {
     "data": {
      "image/png": "[encoded data removed]",
      "text/plain": [
       "<Figure size 1440x576 with 1 Axes>"
      ]
     },
     "metadata": {},
     "output_type": "display_data"
    }
   ],
   "source": [
    "# --- IMPLEMENTATION GOES HERE ---\n",
    "import seaborn as sns\n",
    "import matplotlib.pyplot as plt\n",
    "sns.set_theme(style=\"darkgrid\")\n",
    "df['intervals']=pd.cut(df.abstime,10)\n",
    "#df.head(40)\n",
    "plt.figure(figsize=(20, 8))\n",
    "ax = sns.countplot(x=\"intervals\", hue=\"src\", data=df)\n",
    "ax.set(xlabel='Time Interval Sec', ylabel='Pkt count')\n",
    "plt.show()\n",
    "# --------------------------------"
   ]
  },
  {
   "cell_type": "markdown",
   "metadata": {},
   "source": [
    "---\n",
    "\n",
    "**Apartado D (opcional)** Haced la decodificación de los paquetes que recibe el servidor para comprobar que, efectivamente, podemos recuperar los documentos."
   ]
  },
  {
   "cell_type": "code",
   "execution_count": 141,
   "metadata": {
    "scrolled": false
   },
   "outputs": [
    {
     "name": "stdout",
     "output_type": "stream",
     "text": [
      "Decoded message number 0 =>> \u0000\u0000\u0000\u0000\u0000Sistema de comunicacion DC en perfecto funcionamiento, este es mi documento supersecreto para que no lo vea la nsa\u0000\u0000\u0000\u0000\u0000\u0000\u0000\u0000\u0000\u0000\u0000\u0000\u0000\u0000\u0000\u0000\u0000\u0000\u0000\u0000\u0000\u0000\u0000\u0000\u0000\u0000\u0000\u0000\u0000\u0000\u0000\u0000\u0000\u0000\u0000\u0000\u0000\u0000\u0000\u0000\u0000\u0000\u0000\u0000\u0000\u0000\n"
     ]
    }
   ],
   "source": [
    "# --- IMPLEMENTATION GOES HERE ---\n",
    "def decode(id):\n",
    "    a=df.loc[df['id'] == id]\n",
    "    m=[]\n",
    "    for i in a['payload']:\n",
    "        m.append(i)\n",
    "    return bytes([b0 ^ b1 ^ b2 for b0, b1, b2 in zip(m[0], m[1], m[2])])\n",
    "\n",
    "def get_message(id_server,num_packets,n):\n",
    "    message=[]\n",
    "    for i in range(1,int(num_packets/n)):\n",
    "        if i % n == id_server:\n",
    "            #print(i)\n",
    "            message+=(decode(i).decode(\"utf-8\"))\n",
    "    return ''.join(message)\n",
    "# choose 0,1 or 2 you have to set the number of packet to match your simulation and n is the number of nodes\n",
    "id_server=0        \n",
    "print(f\"Decoded message number {id_server} =>> {get_message(id_server,300,3)}\")\n",
    "# --------------------------------"
   ]
  },
  {
   "cell_type": "markdown",
   "metadata": {},
   "source": [
    "### Parte 2: Preguntas (2.5 puntos)\n",
    "\n",
    "Si no habéis podido resolver los ejercicios de programación, utilizad los datos de los ficheros `sim_result3.csv` y `sim_result4.csv` en caso de que necesitéis los datos para responder las preguntas siguientes."
   ]
  },
  {
   "cell_type": "markdown",
   "metadata": {},
   "source": [
    "####  Q1 (0.5 puntos). Explicad las diferencias entre los datos del volumen de la comunicación obtenidos en el apartado C de los ejercicios 3 y 4. ¿Cómo puede un adversario explotar esta información en cada caso?"
   ]
  },
  {
   "cell_type": "markdown",
   "metadata": {},
   "source": [
    "<div class=\"alert alert-block alert-success\">\n",
    "Respuesta: En el ejercicio 3 los paquetes se enviaban de forma aleatoria lo que hace que se pueda ver tiempos en los que algunos nodos envían más paquetes que otros además no hay mensajes dummy por lo que un atacante podría inferir que nodos están envíando mensajes.\n",
    "    En el ejercicio 4 en cambio en cada periodo todos los nodos mandan los mismos mensajes ya que están sincronizados y enviaran o bien mensajes con contenido o bien mensajes vacíos pero todos los nodos enviarán los mismos mensajes lo que hace que un adversario no pueda inferir nada de los metadatos (si cambiaramos los pares de secretos en cada envío). Esto se puede ver perfectamente en los histogramas obtenidos\n",
    "    \n",
    "</div>"
   ]
  },
  {
   "cell_type": "markdown",
   "metadata": {},
   "source": [
    "#### Q2 (0.5 puntos). ¿Se consigue el anonimato respecto al servidor? ¿Y respecto a terceros? Justifica la respuesta."
   ]
  },
  {
   "cell_type": "markdown",
   "metadata": {},
   "source": [
    "<div class=\"alert alert-block alert-success\">\n",
    "Respuesta: El servidor no puede saber quien envía el documento, pero si que puede ver el contenido del mismo ya que dispone de todos los payloads y simplemente tiene que hacer el xor, pero si que existe anonimato respecto al servidor con respecto a quien es el nodo que envía el documento (en realidad en nuestra implementación no ya que no cambiamos el par de secretos en cada transmisión por lo que los mensajes dummies se repiten y el servidor puede inferir quien envía el mensaje al repetirse los mensajes dummies de los otros dos servidores). En cuanto a terceros si que hay anonimato ya que no pueden saber tampoco quien envía el documento y además no pueden obtener nada de los metadatos ya que en cada periodo todos los nodos envían un mensaje que puede ser con contenido o dummy, por lo que si que ofrece anonimato con respecto a terceros.\n",
    "</div>"
   ]
  },
  {
   "cell_type": "markdown",
   "metadata": {},
   "source": [
    "####  Q3 (0.5 puntos). Explicad qué pasa si, en la simulación del ejercicio 3, el servidor intenta codificar los mensajes que recibe de los nodos."
   ]
  },
  {
   "cell_type": "markdown",
   "metadata": {},
   "source": [
    "<div class=\"alert alert-block alert-success\">\n",
    "Respuesta: En nuestra simulación como solamente uno de los nodos envíaba mensajes con contenido de los 3 el servidor si que puede codificar los mensajes ya que todos los mensajes llevan un id por lo que tal y como vimos en ese apartado aunque estuvieramos enviando simples 1, el servidor podía decodificar si coge los tres mensajes con el mismo id y hace xor, pero esto solo es así porque solo uno de los nodos está mandando x01 y el resto envían mensajes vacíos. En el momento que todos los nodos quisieran enviar mensajes al no existir una sincronización el servidor no podría codificar ninguno de los mensajes. Esto es por que el protocolo DC necesita que solo uno de los nodos envíe datos por cada comunicación.\n",
    "    \n",
    "</div>"
   ]
  },
  {
   "cell_type": "markdown",
   "metadata": {},
   "source": [
    "#### Q4 (0.5 puntos). Analizad la eficiencia de la red DC del ejercicio 4. Para cuantificar la eficiencia, medid el overhead del volumen de los datos de la aplicación que se envían respecto al volumen total de la comunicación."
   ]
  },
  {
   "cell_type": "markdown",
   "metadata": {},
   "source": [
    "<div class=\"alert alert-block alert-success\">\n",
    "Respuesta: Se envían en cada ronda 3 paquetes de datos de los que 2 son dummy y uno contiene datos también producirá el overhead el padding del último paquete del documento con un ejemplo imaginemos el coste del overhead del mensaje 2 de nuestra comunicación si utilizamos paquetes de tamaño 5. En cualquier caso el overhead será el resultado de dividir el coste de la comunicación por entre lo que hubiera costado enviar solo los paquetes del mensaje. Como podemos ver el coste del overhead es de 2.04 ya que el padding del último paquete del mensaje también causa overhead por eso no es exactamente 2.\n",
    "    \n",
    "</div>"
   ]
  },
  {
   "cell_type": "code",
   "execution_count": 142,
   "metadata": {},
   "outputs": [
    {
     "name": "stdout",
     "output_type": "stream",
     "text": [
      "The overhead for a block size 5 is 2.04\n"
     ]
    }
   ],
   "source": [
    "# cal message 2 length\n",
    "mes_len=len(message2)\n",
    "# calculate padding for the block size\n",
    "block_size = 5\n",
    "pad = (mes_len+1) % block_size\n",
    "# calculate dummies\n",
    "dummies = 2* (mes_len+pad)\n",
    "# calculate overhead\n",
    "overhead = (dummies + pad)/(mes_len+pad)\n",
    "print(f\"The overhead for a block size {block_size} is {overhead}\")"
   ]
  },
  {
   "cell_type": "markdown",
   "metadata": {},
   "source": [
    "#### Q5 (0.5 puntos). Uno de los problemas de las redes DC es que son muy vulnerables a los ataques de denegación del servicio por parte de los nodos. Describe, a grandes rasgos, métodos que se te acudan para detectar y mitigar estos ataques."
   ]
  },
  {
   "cell_type": "markdown",
   "metadata": {},
   "source": [
    "<div class=\"alert alert-block alert-success\">\n",
    "Respuesta: En este caso si el ataque de denegación lo realiza un nodo de la red cambiando el contenido de su bit compartido realmente no se puede saber que nodo es el que está realizando la denegación de servicio ya que su paquete a todos los efectos es un paquete bien formado. La única forma de comprobarlo es sabiendo que nodo tenía que enviar información en ese ciclo y conocer los pares de secretos compartidos por los 3 nodos de forma que se podría idenficar el nodo que está realizando el ataque de denegación. Si bien esto no tiene sentido ya que si se dispone de esa información la red DC no tiene sentido como tal.\n",
    "    \n",
    "</div>"
   ]
  },
  {
   "cell_type": "code",
   "execution_count": null,
   "metadata": {},
   "outputs": [],
   "source": []
  },
  {
   "cell_type": "code",
   "execution_count": null,
   "metadata": {},
   "outputs": [],
   "source": []
  },
  {
   "cell_type": "code",
   "execution_count": null,
   "metadata": {},
   "outputs": [],
   "source": []
  },
  {
   "cell_type": "code",
   "execution_count": null,
   "metadata": {},
   "outputs": [],
   "source": []
  }
 ],
 "metadata": {
  "kernelspec": {
   "display_name": "Python 3",
   "language": "python",
   "name": "python3"
  },
  "language_info": {
   "codemirror_mode": {
    "name": "ipython",
    "version": 3
   },
   "file_extension": ".py",
   "mimetype": "text/x-python",
   "name": "python",
   "nbconvert_exporter": "python",
   "pygments_lexer": "ipython3",
   "version": "3.8.5"
  }
 },
 "nbformat": 4,
 "nbformat_minor": 4
}
